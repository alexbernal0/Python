{
 "cells": [
  {
   "cell_type": "code",
   "execution_count": 3,
   "metadata": {
    "collapsed": false
   },
   "outputs": [],
   "source": [
    "import matplotlib.pyplot as plt\n",
    "import pynance as pn\n",
    "ge = pn.data.get('ge', '1962', '2015')"
   ]
  },
  {
   "cell_type": "code",
   "execution_count": 4,
   "metadata": {
    "collapsed": false
   },
   "outputs": [
    {
     "data": {
      "text/html": [
       "<div>\n",
       "<table border=\"1\" class=\"dataframe\">\n",
       "  <thead>\n",
       "    <tr style=\"text-align: right;\">\n",
       "      <th></th>\n",
       "      <th>Open</th>\n",
       "      <th>High</th>\n",
       "      <th>Low</th>\n",
       "      <th>Close</th>\n",
       "      <th>Volume</th>\n",
       "      <th>Adj Close</th>\n",
       "    </tr>\n",
       "    <tr>\n",
       "      <th>Date</th>\n",
       "      <th></th>\n",
       "      <th></th>\n",
       "      <th></th>\n",
       "      <th></th>\n",
       "      <th></th>\n",
       "      <th></th>\n",
       "    </tr>\n",
       "  </thead>\n",
       "  <tbody>\n",
       "    <tr>\n",
       "      <th>1962-01-02</th>\n",
       "      <td>75.000</td>\n",
       "      <td>76.250</td>\n",
       "      <td>74.25</td>\n",
       "      <td>74.750</td>\n",
       "      <td>21600</td>\n",
       "      <td>0.165604</td>\n",
       "    </tr>\n",
       "    <tr>\n",
       "      <th>1962-01-03</th>\n",
       "      <td>74.375</td>\n",
       "      <td>74.375</td>\n",
       "      <td>73.75</td>\n",
       "      <td>74.000</td>\n",
       "      <td>14800</td>\n",
       "      <td>0.163943</td>\n",
       "    </tr>\n",
       "    <tr>\n",
       "      <th>1962-01-04</th>\n",
       "      <td>74.000</td>\n",
       "      <td>74.625</td>\n",
       "      <td>72.50</td>\n",
       "      <td>73.125</td>\n",
       "      <td>18400</td>\n",
       "      <td>0.162004</td>\n",
       "    </tr>\n",
       "    <tr>\n",
       "      <th>1962-01-05</th>\n",
       "      <td>73.125</td>\n",
       "      <td>73.250</td>\n",
       "      <td>70.00</td>\n",
       "      <td>71.250</td>\n",
       "      <td>27300</td>\n",
       "      <td>0.157850</td>\n",
       "    </tr>\n",
       "    <tr>\n",
       "      <th>1962-01-08</th>\n",
       "      <td>71.250</td>\n",
       "      <td>71.250</td>\n",
       "      <td>69.00</td>\n",
       "      <td>71.125</td>\n",
       "      <td>31000</td>\n",
       "      <td>0.157573</td>\n",
       "    </tr>\n",
       "  </tbody>\n",
       "</table>\n",
       "</div>"
      ],
      "text/plain": [
       "              Open    High    Low   Close  Volume  Adj Close\n",
       "Date                                                        \n",
       "1962-01-02  75.000  76.250  74.25  74.750   21600   0.165604\n",
       "1962-01-03  74.375  74.375  73.75  74.000   14800   0.163943\n",
       "1962-01-04  74.000  74.625  72.50  73.125   18400   0.162004\n",
       "1962-01-05  73.125  73.250  70.00  71.250   27300   0.157850\n",
       "1962-01-08  71.250  71.250  69.00  71.125   31000   0.157573"
      ]
     },
     "execution_count": 4,
     "metadata": {},
     "output_type": "execute_result"
    }
   ],
   "source": [
    "ge.head()"
   ]
  },
  {
   "cell_type": "code",
   "execution_count": 6,
   "metadata": {
    "collapsed": false
   },
   "outputs": [
    {
     "ename": "NameError",
     "evalue": "name 'df' is not defined",
     "output_type": "error",
     "traceback": [
      "\u001b[1;31m\u001b[0m",
      "\u001b[1;31mNameError\u001b[0mTraceback (most recent call last)",
      "\u001b[1;32m<ipython-input-6-5db1e62aa3d0>\u001b[0m in \u001b[0;36m<module>\u001b[1;34m()\u001b[0m\n\u001b[1;32m----> 1\u001b[1;33m pn.chart.adj_close(df, title='GE', fname='foo.png', events=evdf, eventcolors=['r', 'g'], \n\u001b[0m\u001b[0;32m      2\u001b[0m         bollinger=bolldf, sma=smadf)\n",
      "\u001b[1;31mNameError\u001b[0m: name 'df' is not defined"
     ]
    }
   ],
   "source": [
    "pn.chart.adj_close(df, title='GE', fname='foo.png', events=evdf, eventcolors=['r', 'g'], \n",
    "        bollinger=bolldf, sma=smadf)"
   ]
  },
  {
   "cell_type": "code",
   "execution_count": null,
   "metadata": {
    "collapsed": true
   },
   "outputs": [],
   "source": []
  }
 ],
 "metadata": {
  "kernelspec": {
   "display_name": "Python 2",
   "language": "python",
   "name": "python2"
  },
  "language_info": {
   "codemirror_mode": {
    "name": "ipython",
    "version": 2
   },
   "file_extension": ".py",
   "mimetype": "text/x-python",
   "name": "python",
   "nbconvert_exporter": "python",
   "pygments_lexer": "ipython2",
   "version": "2.7.11"
  }
 },
 "nbformat": 4,
 "nbformat_minor": 2
}
