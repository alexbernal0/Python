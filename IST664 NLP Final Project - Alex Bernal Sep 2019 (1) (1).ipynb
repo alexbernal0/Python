{
 "cells": [
  {
   "cell_type": "markdown",
   "metadata": {},
   "source": [
    "# Step 1 : Text Processing"
   ]
  },
  {
   "cell_type": "markdown",
   "metadata": {
    "ExecuteTime": {
     "end_time": "2019-08-31T22:05:52.752852Z",
     "start_time": "2019-08-31T22:05:52.748834Z"
    }
   },
   "source": [
    "## Import Libraries"
   ]
  },
  {
   "cell_type": "code",
   "execution_count": 132,
   "metadata": {
    "ExecuteTime": {
     "end_time": "2019-09-01T00:06:25.384971Z",
     "start_time": "2019-09-01T00:06:25.374997Z"
    }
   },
   "outputs": [],
   "source": [
    "import pandas as pd\n",
    "import numpy as np\n",
    "import json\n",
    "import nltk\n",
    "import re\n",
    "import csv\n",
    "import matplotlib.pyplot as plt \n",
    "import seaborn as sns\n",
    "from tqdm import tqdm\n",
    "from sklearn.feature_extraction.text import TfidfVectorizer\n",
    "from sklearn.model_selection import train_test_split\n",
    "import operator\n",
    "from textblob import TextBlob\n",
    "from importlib import reload\n",
    "import sys\n",
    "from imp import reload\n",
    "\n",
    "    \n",
    "%matplotlib inline\n",
    "pd.set_option('display.max_colwidth', 300)\n",
    "\n",
    "import warnings\n",
    "warnings.filterwarnings('ignore')\n",
    "if sys.version[0] == '2':\n",
    "    reload(sys)\n",
    "    sys.setdefaultencoding(\"utf-8\")"
   ]
  },
  {
   "cell_type": "markdown",
   "metadata": {},
   "source": [
    "## Import Data"
   ]
  },
  {
   "cell_type": "code",
   "execution_count": 133,
   "metadata": {
    "ExecuteTime": {
     "end_time": "2019-09-01T00:06:25.599397Z",
     "start_time": "2019-09-01T00:06:25.385968Z"
    }
   },
   "outputs": [
    {
     "data": {
      "text/html": [
       "<div>\n",
       "<style scoped>\n",
       "    .dataframe tbody tr th:only-of-type {\n",
       "        vertical-align: middle;\n",
       "    }\n",
       "\n",
       "    .dataframe tbody tr th {\n",
       "        vertical-align: top;\n",
       "    }\n",
       "\n",
       "    .dataframe thead th {\n",
       "        text-align: right;\n",
       "    }\n",
       "</style>\n",
       "<table border=\"1\" class=\"dataframe\">\n",
       "  <thead>\n",
       "    <tr style=\"text-align: right;\">\n",
       "      <th></th>\n",
       "      <th>label</th>\n",
       "      <th>review</th>\n",
       "    </tr>\n",
       "  </thead>\n",
       "  <tbody>\n",
       "    <tr>\n",
       "      <th>0</th>\n",
       "      <td>neg</td>\n",
       "      <td>This movie should have been called \"The Eyes of Alexander\", and they should have done away with the Bogart concept altogether. The film started out with a lighthearted approach to Bogart's legacy and some comical moments with his surgery oriented face, but after the first 15-30 minutes it morphs...</td>\n",
       "    </tr>\n",
       "    <tr>\n",
       "      <th>1</th>\n",
       "      <td>neg</td>\n",
       "      <td>Its No wonder this was free with the Mail on Sunday, slow going, poor acting, and filming (camera flare, near start of movie, is not even artistic) = Straight to video, but not in this case, why not recoup some of your (Film production costs) by releasing it free with a UK Sunday newspaper, at l...</td>\n",
       "    </tr>\n",
       "    <tr>\n",
       "      <th>2</th>\n",
       "      <td>neg</td>\n",
       "      <td>The only Riddle in this film was how it ever got made. the British film Industry needs to make films people actually want to watch and not look to get Taxpayers money (a'la BBC) to keep Luvvies in their life style they have been accustomed to, with doing nothing for it.&lt;br /&gt;&lt;br /&gt;the Film was e...</td>\n",
       "    </tr>\n",
       "    <tr>\n",
       "      <th>3</th>\n",
       "      <td>neg</td>\n",
       "      <td>It doesn't surprise me that the makers of this hopeless movie couldn't find a UK distributor, and then had to release it as a free DVD with a Sunday newspaper. The distributors could clearly see what the film-makers and the Sunday newspaper couldn't, that this was one movie that just wasn't goin...</td>\n",
       "    </tr>\n",
       "    <tr>\n",
       "      <th>4</th>\n",
       "      <td>neg</td>\n",
       "      <td>I could not believe the original rating I found when i looked up this film, 9.5? Unfortunately it looks like I am not alone.&lt;br /&gt;&lt;br /&gt;The film, is slow and boring really, one of the sad things is that if the film had been given a realistic rating of around 5 or 6 then the expectation would not...</td>\n",
       "    </tr>\n",
       "  </tbody>\n",
       "</table>\n",
       "</div>"
      ],
      "text/plain": [
       "  label  \\\n",
       "0   neg   \n",
       "1   neg   \n",
       "2   neg   \n",
       "3   neg   \n",
       "4   neg   \n",
       "\n",
       "                                                                                                                                                                                                                                                                                                        review  \n",
       "0  This movie should have been called \"The Eyes of Alexander\", and they should have done away with the Bogart concept altogether. The film started out with a lighthearted approach to Bogart's legacy and some comical moments with his surgery oriented face, but after the first 15-30 minutes it morphs...  \n",
       "1  Its No wonder this was free with the Mail on Sunday, slow going, poor acting, and filming (camera flare, near start of movie, is not even artistic) = Straight to video, but not in this case, why not recoup some of your (Film production costs) by releasing it free with a UK Sunday newspaper, at l...  \n",
       "2  The only Riddle in this film was how it ever got made. the British film Industry needs to make films people actually want to watch and not look to get Taxpayers money (a'la BBC) to keep Luvvies in their life style they have been accustomed to, with doing nothing for it.<br /><br />the Film was e...  \n",
       "3  It doesn't surprise me that the makers of this hopeless movie couldn't find a UK distributor, and then had to release it as a free DVD with a Sunday newspaper. The distributors could clearly see what the film-makers and the Sunday newspaper couldn't, that this was one movie that just wasn't goin...  \n",
       "4  I could not believe the original rating I found when i looked up this film, 9.5? Unfortunately it looks like I am not alone.<br /><br />The film, is slow and boring really, one of the sad things is that if the film had been given a realistic rating of around 5 or 6 then the expectation would not...  "
      ]
     },
     "execution_count": 133,
     "metadata": {},
     "output_type": "execute_result"
    }
   ],
   "source": [
    "#file_path = \"C:\\\\Users\\\\User\\\\Documents\\\\IST664 Final Project\\\\imdb_master.csv\"\n",
    "#meta = pd.read_csv(file_path, sep = '\\t', header = None)\n",
    "\n",
    "#Larger File\n",
    "#df = pd.read_csv('C:\\\\Users\\\\User\\\\Documents\\\\IST664 Final Project\\\\imdb_master.csv',encoding=\"latin-1\")\n",
    "\n",
    "#smaller File\n",
    "df = pd.read_csv('C:\\\\Users\\\\User\\\\Documents\\\\IST664 Final Project\\\\imdb_master2.csv',encoding=\"latin-1\")\n",
    "\n",
    "df.head()"
   ]
  },
  {
   "cell_type": "markdown",
   "metadata": {},
   "source": [
    "## Data Exploration and Cleaning"
   ]
  },
  {
   "cell_type": "code",
   "execution_count": 134,
   "metadata": {
    "ExecuteTime": {
     "end_time": "2019-09-01T00:06:25.607376Z",
     "start_time": "2019-09-01T00:06:25.600395Z"
    }
   },
   "outputs": [
    {
     "name": "stdout",
     "output_type": "stream",
     "text": [
      "pos      7778\n",
      "neg      6909\n",
      "unsup    2488\n"
     ]
    }
   ],
   "source": [
    "#Function to count and summarize categories\n",
    "def class_counts(df, label='label'):\n",
    "    return df[label].value_counts().to_string(header=None)\n",
    "\n",
    "print(class_counts(df))"
   ]
  },
  {
   "cell_type": "markdown",
   "metadata": {},
   "source": [
    "## Text Cleaning"
   ]
  },
  {
   "cell_type": "code",
   "execution_count": 135,
   "metadata": {
    "ExecuteTime": {
     "end_time": "2019-09-01T00:06:26.827114Z",
     "start_time": "2019-09-01T00:06:25.608374Z"
    }
   },
   "outputs": [
    {
     "data": {
      "text/html": [
       "<div>\n",
       "<style scoped>\n",
       "    .dataframe tbody tr th:only-of-type {\n",
       "        vertical-align: middle;\n",
       "    }\n",
       "\n",
       "    .dataframe tbody tr th {\n",
       "        vertical-align: top;\n",
       "    }\n",
       "\n",
       "    .dataframe thead th {\n",
       "        text-align: right;\n",
       "    }\n",
       "</style>\n",
       "<table border=\"1\" class=\"dataframe\">\n",
       "  <thead>\n",
       "    <tr style=\"text-align: right;\">\n",
       "      <th></th>\n",
       "      <th>label</th>\n",
       "      <th>review</th>\n",
       "      <th>clean_rev</th>\n",
       "    </tr>\n",
       "  </thead>\n",
       "  <tbody>\n",
       "    <tr>\n",
       "      <th>0</th>\n",
       "      <td>neg</td>\n",
       "      <td>This movie should have been called \"The Eyes of Alexander\", and they should have done away with the Bogart concept altogether. The film started out with a lighthearted approach to Bogart's legacy and some comical moments with his surgery oriented face, but after the first 15-30 minutes it morphs...</td>\n",
       "      <td>this movie should have been called the eyes of alexander and they should have done away with the bogart concept altogether the film started out with a lighthearted approach to bogarts legacy and some comical moments with his surgery oriented face but after the first minutes it morphs into a more...</td>\n",
       "    </tr>\n",
       "  </tbody>\n",
       "</table>\n",
       "</div>"
      ],
      "text/plain": [
       "  label  \\\n",
       "0   neg   \n",
       "\n",
       "                                                                                                                                                                                                                                                                                                        review  \\\n",
       "0  This movie should have been called \"The Eyes of Alexander\", and they should have done away with the Bogart concept altogether. The film started out with a lighthearted approach to Bogart's legacy and some comical moments with his surgery oriented face, but after the first 15-30 minutes it morphs...   \n",
       "\n",
       "                                                                                                                                                                                                                                                                                                     clean_rev  \n",
       "0  this movie should have been called the eyes of alexander and they should have done away with the bogart concept altogether the film started out with a lighthearted approach to bogarts legacy and some comical moments with his surgery oriented face but after the first minutes it morphs into a more...  "
      ]
     },
     "execution_count": 135,
     "metadata": {},
     "output_type": "execute_result"
    }
   ],
   "source": [
    "import string\n",
    "# function for text cleaning\n",
    "def clean_text(text):\n",
    "    # remove backslash-apostrophe\n",
    "    text = re.sub(\"\\'\", \"\", text)\n",
    "    # remove everything alphabets\n",
    "    text = re.sub(\"[^a-zA-Z]\",\" \",text)\n",
    "    # remove whitespaces\n",
    "    text = ' '.join(text.split())\n",
    "    # convert text to lowercase\n",
    "    text = text.lower()\n",
    "    #repmoves all line breaks\n",
    "    #text = string.replace(\"\\r\",\"\")\n",
    "    text = text.rstrip(\"\\r\\n\")\n",
    "    text = text.rstrip(\"\\r\")\n",
    "    text = text.rstrip(\"\\n\")\n",
    "    \n",
    "    return text\n",
    "\n",
    "df['clean_rev'] = df['review'].apply(lambda x: clean_text(x))\n",
    "df.head(1)"
   ]
  },
  {
   "cell_type": "markdown",
   "metadata": {},
   "source": [
    "## Spelling Correction"
   ]
  },
  {
   "cell_type": "code",
   "execution_count": 136,
   "metadata": {
    "ExecuteTime": {
     "end_time": "2019-09-01T00:06:33.972008Z",
     "start_time": "2019-09-01T00:06:26.828111Z"
    }
   },
   "outputs": [
    {
     "data": {
      "text/plain": [
       "0    this movie should have been called the eyes of alexander and they should have done away with the bogart concept altogether the film started out with a lighthearted approach to bogart legacy and some comical moments with his surgery tormented face but after the first minutes it months into a more...\n",
       "1    its no wonder this was free with the mail on sunday slow going poor acting and filling camera flare near start of movie is not even artistic straight to video but not in this case why not record some of your film production costs by releasing it free with a up sunday newspaper at least this way ...\n",
       "2    the only riddle in this film was how it ever got made the british film industry needs to make films people actually want to watch and not look to get taxpayers money all bc to keep navvies in their life style they have been accustomed to with doing nothing for it br br the film was every thing w...\n",
       "3    it doesn surprise me that the makers of this hopeless movie couldn find a up distributor and then had to release it as a free did with a sunday newspaper the distributor could clearly see what the film makers and the sunday newspaper couldn that this was one movie that just want going to record ...\n",
       "4    i could not believe the original rating i found when i looked up this film unfortunately it looks like i am not alone br br the film is slow and boring really one of the sad things is that if the film had been given a realistic rating of around or then the expectation would not have been so high...\n",
       "Name: clean_rev, dtype: object"
      ]
     },
     "execution_count": 136,
     "metadata": {},
     "output_type": "execute_result"
    }
   ],
   "source": [
    "# spelling correction\n",
    "from textblob import TextBlob\n",
    "df['clean_rev'][:5].apply(lambda x: str(TextBlob(x).correct()))"
   ]
  },
  {
   "cell_type": "code",
   "execution_count": 137,
   "metadata": {
    "ExecuteTime": {
     "end_time": "2019-09-01T00:06:33.984974Z",
     "start_time": "2019-09-01T00:06:33.973015Z"
    }
   },
   "outputs": [
    {
     "data": {
      "text/html": [
       "<div>\n",
       "<style scoped>\n",
       "    .dataframe tbody tr th:only-of-type {\n",
       "        vertical-align: middle;\n",
       "    }\n",
       "\n",
       "    .dataframe tbody tr th {\n",
       "        vertical-align: top;\n",
       "    }\n",
       "\n",
       "    .dataframe thead th {\n",
       "        text-align: right;\n",
       "    }\n",
       "</style>\n",
       "<table border=\"1\" class=\"dataframe\">\n",
       "  <thead>\n",
       "    <tr style=\"text-align: right;\">\n",
       "      <th></th>\n",
       "      <th>review</th>\n",
       "      <th>clean_rev</th>\n",
       "    </tr>\n",
       "  </thead>\n",
       "  <tbody>\n",
       "    <tr>\n",
       "      <th>13560</th>\n",
       "      <td>To suggest Anton Newcombe of the Brian Jonestown Massacre could also use some therapy is putting it mildly. In Dig! which won the Grand Jury Prize at Sundance, we watch him and his band self-sabotage over seven years, while ex-friends and contemporaries The Dandy Warhols rise to comparative grea...</td>\n",
       "      <td>to suggest anton newcombe of the brian jonestown massacre could also use some therapy is putting it mildly in dig which won the grand jury prize at sundance we watch him and his band self sabotage over seven years while ex friends and contemporaries the dandy warhols rise to comparative greatnes...</td>\n",
       "    </tr>\n",
       "    <tr>\n",
       "      <th>5645</th>\n",
       "      <td>After watching this, I had lost a little respect for Christopher Lee (This has passed over time). This film was utter garbage. First, they tried to recreate the ending from the first \"Howling,\" with incredibly bad make-up. Then they try to turn it into a sad excuse of a werewolf porn film! The p...</td>\n",
       "      <td>after watching this i had lost a little respect for christopher lee this has passed over time this film was utter garbage first they tried to recreate the ending from the first howling with incredibly bad make up then they try to turn it into a sad excuse of a werewolf porn film the plot sucks a...</td>\n",
       "    </tr>\n",
       "    <tr>\n",
       "      <th>9732</th>\n",
       "      <td>Murder in Mesopotamia, I have always considered one of the better Poirot books, as it is very creepy and has an ingenious ending. There is no doubt that the TV adaptation is visually striking, with some lovely photography and a very haunting music score. As always David Suchet is impeccable as H...</td>\n",
       "      <td>murder in mesopotamia i have always considered one of the better poirot books as it is very creepy and has an ingenious ending there is no doubt that the tv adaptation is visually striking with some lovely photography and a very haunting music score as always david suchet is impeccable as hercul...</td>\n",
       "    </tr>\n",
       "  </tbody>\n",
       "</table>\n",
       "</div>"
      ],
      "text/plain": [
       "                                                                                                                                                                                                                                                                                                            review  \\\n",
       "13560  To suggest Anton Newcombe of the Brian Jonestown Massacre could also use some therapy is putting it mildly. In Dig! which won the Grand Jury Prize at Sundance, we watch him and his band self-sabotage over seven years, while ex-friends and contemporaries The Dandy Warhols rise to comparative grea...   \n",
       "5645   After watching this, I had lost a little respect for Christopher Lee (This has passed over time). This film was utter garbage. First, they tried to recreate the ending from the first \"Howling,\" with incredibly bad make-up. Then they try to turn it into a sad excuse of a werewolf porn film! The p...   \n",
       "9732   Murder in Mesopotamia, I have always considered one of the better Poirot books, as it is very creepy and has an ingenious ending. There is no doubt that the TV adaptation is visually striking, with some lovely photography and a very haunting music score. As always David Suchet is impeccable as H...   \n",
       "\n",
       "                                                                                                                                                                                                                                                                                                         clean_rev  \n",
       "13560  to suggest anton newcombe of the brian jonestown massacre could also use some therapy is putting it mildly in dig which won the grand jury prize at sundance we watch him and his band self sabotage over seven years while ex friends and contemporaries the dandy warhols rise to comparative greatnes...  \n",
       "5645   after watching this i had lost a little respect for christopher lee this has passed over time this film was utter garbage first they tried to recreate the ending from the first howling with incredibly bad make up then they try to turn it into a sad excuse of a werewolf porn film the plot sucks a...  \n",
       "9732   murder in mesopotamia i have always considered one of the better poirot books as it is very creepy and has an ingenious ending there is no doubt that the tv adaptation is visually striking with some lovely photography and a very haunting music score as always david suchet is impeccable as hercul...  "
      ]
     },
     "execution_count": 137,
     "metadata": {},
     "output_type": "execute_result"
    }
   ],
   "source": [
    "df[['review', 'clean_rev']].sample(3)"
   ]
  },
  {
   "cell_type": "markdown",
   "metadata": {},
   "source": [
    "## Explore Word Frequncy - "
   ]
  },
  {
   "cell_type": "code",
   "execution_count": 138,
   "metadata": {
    "ExecuteTime": {
     "end_time": "2019-09-01T00:06:33.991961Z",
     "start_time": "2019-09-01T00:06:33.985974Z"
    }
   },
   "outputs": [],
   "source": [
    "def freq_words(x, terms = 30):\n",
    "  all_words = ' '.join([text for text in x])\n",
    "  all_words = all_words.split()\n",
    "  \n",
    "  fdist = nltk.FreqDist(all_words)\n",
    "  words_df = pd.DataFrame({'word':list(fdist.keys()), 'count':list(fdist.values())})\n",
    "  \n",
    "  # selecting top 20 most frequent words\n",
    "  d = words_df.nlargest(columns=\"count\", n = terms) \n",
    "  plt.figure(figsize=(12,15))\n",
    "  ax = sns.barplot(data=d, x= \"count\", y = \"word\")\n",
    "  ax.set(ylabel = 'Word')\n",
    "  plt.show()"
   ]
  },
  {
   "cell_type": "code",
   "execution_count": 139,
   "metadata": {
    "ExecuteTime": {
     "end_time": "2019-09-01T00:06:36.917132Z",
     "start_time": "2019-09-01T00:06:33.993951Z"
    }
   },
   "outputs": [
    {
     "data": {
      "image/png": "[encoded data removed]",
      "text/plain": [
       "<Figure size 864x1080 with 1 Axes>"
      ]
     },
     "metadata": {
      "needs_background": "light"
     },
     "output_type": "display_data"
    }
   ],
   "source": [
    "# print 100 most frequent words\n",
    "freq_words(df['review'], 50)"
   ]
  },
  {
   "cell_type": "markdown",
   "metadata": {},
   "source": [
    "## Filtering Stopwords"
   ]
  },
  {
   "cell_type": "code",
   "execution_count": 140,
   "metadata": {
    "ExecuteTime": {
     "end_time": "2019-09-01T00:06:36.925111Z",
     "start_time": "2019-09-01T00:06:36.919128Z"
    }
   },
   "outputs": [
    {
     "data": {
      "text/plain": [
       "{'a',\n",
       " 'about',\n",
       " 'above',\n",
       " 'after',\n",
       " 'again',\n",
       " 'against',\n",
       " 'ain',\n",
       " 'all',\n",
       " 'am',\n",
       " 'an',\n",
       " 'and',\n",
       " 'any',\n",
       " 'are',\n",
       " 'aren',\n",
       " \"aren't\",\n",
       " 'as',\n",
       " 'at',\n",
       " 'be',\n",
       " 'because',\n",
       " 'been',\n",
       " 'before',\n",
       " 'being',\n",
       " 'below',\n",
       " 'between',\n",
       " 'both',\n",
       " 'but',\n",
       " 'by',\n",
       " 'can',\n",
       " 'couldn',\n",
       " \"couldn't\",\n",
       " 'd',\n",
       " 'did',\n",
       " 'didn',\n",
       " \"didn't\",\n",
       " 'do',\n",
       " 'does',\n",
       " 'doesn',\n",
       " \"doesn't\",\n",
       " 'doing',\n",
       " 'don',\n",
       " \"don't\",\n",
       " 'down',\n",
       " 'during',\n",
       " 'each',\n",
       " 'few',\n",
       " 'for',\n",
       " 'from',\n",
       " 'further',\n",
       " 'had',\n",
       " 'hadn',\n",
       " \"hadn't\",\n",
       " 'has',\n",
       " 'hasn',\n",
       " \"hasn't\",\n",
       " 'have',\n",
       " 'haven',\n",
       " \"haven't\",\n",
       " 'having',\n",
       " 'he',\n",
       " 'her',\n",
       " 'here',\n",
       " 'hers',\n",
       " 'herself',\n",
       " 'him',\n",
       " 'himself',\n",
       " 'his',\n",
       " 'how',\n",
       " 'i',\n",
       " 'if',\n",
       " 'in',\n",
       " 'into',\n",
       " 'is',\n",
       " 'isn',\n",
       " \"isn't\",\n",
       " 'it',\n",
       " \"it's\",\n",
       " 'its',\n",
       " 'itself',\n",
       " 'just',\n",
       " 'll',\n",
       " 'm',\n",
       " 'ma',\n",
       " 'me',\n",
       " 'mightn',\n",
       " \"mightn't\",\n",
       " 'more',\n",
       " 'most',\n",
       " 'mustn',\n",
       " \"mustn't\",\n",
       " 'my',\n",
       " 'myself',\n",
       " 'needn',\n",
       " \"needn't\",\n",
       " 'no',\n",
       " 'nor',\n",
       " 'not',\n",
       " 'now',\n",
       " 'o',\n",
       " 'of',\n",
       " 'off',\n",
       " 'on',\n",
       " 'once',\n",
       " 'only',\n",
       " 'or',\n",
       " 'other',\n",
       " 'our',\n",
       " 'ours',\n",
       " 'ourselves',\n",
       " 'out',\n",
       " 'over',\n",
       " 'own',\n",
       " 're',\n",
       " 's',\n",
       " 'same',\n",
       " 'shan',\n",
       " \"shan't\",\n",
       " 'she',\n",
       " \"she's\",\n",
       " 'should',\n",
       " \"should've\",\n",
       " 'shouldn',\n",
       " \"shouldn't\",\n",
       " 'so',\n",
       " 'some',\n",
       " 'such',\n",
       " 't',\n",
       " 'than',\n",
       " 'that',\n",
       " \"that'll\",\n",
       " 'the',\n",
       " 'their',\n",
       " 'theirs',\n",
       " 'them',\n",
       " 'themselves',\n",
       " 'then',\n",
       " 'there',\n",
       " 'these',\n",
       " 'they',\n",
       " 'this',\n",
       " 'those',\n",
       " 'through',\n",
       " 'to',\n",
       " 'too',\n",
       " 'under',\n",
       " 'until',\n",
       " 'up',\n",
       " 've',\n",
       " 'very',\n",
       " 'was',\n",
       " 'wasn',\n",
       " \"wasn't\",\n",
       " 'we',\n",
       " 'were',\n",
       " 'weren',\n",
       " \"weren't\",\n",
       " 'what',\n",
       " 'when',\n",
       " 'where',\n",
       " 'which',\n",
       " 'while',\n",
       " 'who',\n",
       " 'whom',\n",
       " 'why',\n",
       " 'will',\n",
       " 'with',\n",
       " 'won',\n",
       " \"won't\",\n",
       " 'wouldn',\n",
       " \"wouldn't\",\n",
       " 'y',\n",
       " 'you',\n",
       " \"you'd\",\n",
       " \"you'll\",\n",
       " \"you're\",\n",
       " \"you've\",\n",
       " 'your',\n",
       " 'yours',\n",
       " 'yourself',\n",
       " 'yourselves'}"
      ]
     },
     "execution_count": 140,
     "metadata": {},
     "output_type": "execute_result"
    }
   ],
   "source": [
    "import nltk\n",
    "from nltk.corpus import stopwords\n",
    "set(stopwords.words('english'))"
   ]
  },
  {
   "cell_type": "code",
   "execution_count": 141,
   "metadata": {
    "ExecuteTime": {
     "end_time": "2019-09-01T00:06:39.068380Z",
     "start_time": "2019-09-01T00:06:36.926109Z"
    }
   },
   "outputs": [
    {
     "data": {
      "image/png": "[encoded data removed]",
      "text/plain": [
       "<Figure size 864x1080 with 1 Axes>"
      ]
     },
     "metadata": {
      "needs_background": "light"
     },
     "output_type": "display_data"
    }
   ],
   "source": [
    "import nltk\n",
    "from nltk.corpus import stopwords\n",
    "set(stopwords.words('english'))\n",
    "\n",
    "from nltk.corpus import stopwords\n",
    "stop_words = set(stopwords.words('english'))\n",
    "\n",
    "#from nltk.corpus import stopwords\n",
    "#nltkstopwords = nltk.corpus.stopwords.words('english')\n",
    "#morestopwords = ['_',\"br\",\"it.\", \"It's\",\n",
    "#                 'It',\"|\",'y',\"'s\",\"'d\",\"'ll\",\"'t\",\"'m\",\"'re\",\"'ve\", \"n't\"]\n",
    "#stopwords = nltkstopwords + morestopwords\n",
    "\n",
    "\n",
    "# function to remove stopwords\n",
    "def remove_stopwords(text):\n",
    "    no_stopword_text = [w for w in text.split() if not w in stop_words]\n",
    "    return ' '.join(no_stopword_text)\n",
    "  \n",
    "df['clean_rev'] = df['clean_rev'].apply(lambda x: remove_stopwords(x))\n",
    "freq_words(df['clean_rev'], 50)"
   ]
  },
  {
   "cell_type": "code",
   "execution_count": 142,
   "metadata": {
    "ExecuteTime": {
     "end_time": "2019-09-01T00:06:39.076362Z",
     "start_time": "2019-09-01T00:06:39.069377Z"
    }
   },
   "outputs": [
    {
     "data": {
      "text/html": [
       "<div>\n",
       "<style scoped>\n",
       "    .dataframe tbody tr th:only-of-type {\n",
       "        vertical-align: middle;\n",
       "    }\n",
       "\n",
       "    .dataframe tbody tr th {\n",
       "        vertical-align: top;\n",
       "    }\n",
       "\n",
       "    .dataframe thead th {\n",
       "        text-align: right;\n",
       "    }\n",
       "</style>\n",
       "<table border=\"1\" class=\"dataframe\">\n",
       "  <thead>\n",
       "    <tr style=\"text-align: right;\">\n",
       "      <th></th>\n",
       "      <th>label</th>\n",
       "      <th>review</th>\n",
       "      <th>clean_rev</th>\n",
       "    </tr>\n",
       "  </thead>\n",
       "  <tbody>\n",
       "    <tr>\n",
       "      <th>0</th>\n",
       "      <td>neg</td>\n",
       "      <td>This movie should have been called \"The Eyes of Alexander\", and they should have done away with the Bogart concept altogether. The film started out with a lighthearted approach to Bogart's legacy and some comical moments with his surgery oriented face, but after the first 15-30 minutes it morphs...</td>\n",
       "      <td>movie called eyes alexander done away bogart concept altogether film started lighthearted approach bogarts legacy comical moments surgery oriented face first minutes morphs serious thriller two palm size sapphires purportedly laid eyes marble headpiece alexander great seen right death gems great...</td>\n",
       "    </tr>\n",
       "  </tbody>\n",
       "</table>\n",
       "</div>"
      ],
      "text/plain": [
       "  label  \\\n",
       "0   neg   \n",
       "\n",
       "                                                                                                                                                                                                                                                                                                        review  \\\n",
       "0  This movie should have been called \"The Eyes of Alexander\", and they should have done away with the Bogart concept altogether. The film started out with a lighthearted approach to Bogart's legacy and some comical moments with his surgery oriented face, but after the first 15-30 minutes it morphs...   \n",
       "\n",
       "                                                                                                                                                                                                                                                                                                     clean_rev  \n",
       "0  movie called eyes alexander done away bogart concept altogether film started lighthearted approach bogarts legacy comical moments surgery oriented face first minutes morphs serious thriller two palm size sapphires purportedly laid eyes marble headpiece alexander great seen right death gems great...  "
      ]
     },
     "execution_count": 142,
     "metadata": {},
     "output_type": "execute_result"
    }
   ],
   "source": [
    "df.head(1)"
   ]
  },
  {
   "cell_type": "markdown",
   "metadata": {},
   "source": [
    "# Step 2 : Feature Engineering"
   ]
  },
  {
   "cell_type": "markdown",
   "metadata": {
    "ExecuteTime": {
     "end_time": "2019-08-31T22:32:24.170890Z",
     "start_time": "2019-08-31T22:32:24.162882Z"
    }
   },
   "source": [
    "## Bag-of-Words Tokenization BOW"
   ]
  },
  {
   "cell_type": "code",
   "execution_count": 143,
   "metadata": {
    "ExecuteTime": {
     "end_time": "2019-09-01T00:06:39.082342Z",
     "start_time": "2019-09-01T00:06:39.077356Z"
    }
   },
   "outputs": [],
   "source": [
    "#from sklearn.feature_extraction.text import CountVectorizer\n",
    "\n",
    "# create the transform\n",
    "#vectorizer = CountVectorizer()\n",
    "# tokenize and build vocab\n",
    "#vectorizer.fit(df['clean_rev'])\n",
    "# summarize\n",
    "#print(vectorizer.vocabulary_)"
   ]
  },
  {
   "cell_type": "code",
   "execution_count": 144,
   "metadata": {
    "ExecuteTime": {
     "end_time": "2019-09-01T00:06:39.089325Z",
     "start_time": "2019-09-01T00:06:39.083340Z"
    }
   },
   "outputs": [],
   "source": [
    "# encode document\n",
    "#vector = vectorizer.transform(df['clean_rev'])\n",
    "# summarize encoded vector\n",
    "#print(vector.shape)\n",
    "#print(type(vector))\n",
    "#print(vector.toarray())"
   ]
  },
  {
   "cell_type": "code",
   "execution_count": 145,
   "metadata": {
    "ExecuteTime": {
     "end_time": "2019-09-01T00:06:40.495591Z",
     "start_time": "2019-09-01T00:06:39.091319Z"
    }
   },
   "outputs": [],
   "source": [
    "from sklearn.feature_extraction.text import CountVectorizer\n",
    "from nltk.tokenize import RegexpTokenizer\n",
    "#tokenizer to remove unwanted elements from out data like symbols and numbers\n",
    "token = RegexpTokenizer(r'[a-zA-Z0-9]+')\n",
    "cv = CountVectorizer(lowercase=True,stop_words='english',ngram_range = (1,1),tokenizer = token.tokenize)\n",
    "text_counts= cv.fit_transform(df['clean_rev'])"
   ]
  },
  {
   "cell_type": "markdown",
   "metadata": {},
   "source": [
    "## NLTK Baive Bayes"
   ]
  },
  {
   "cell_type": "code",
   "execution_count": 146,
   "metadata": {
    "ExecuteTime": {
     "end_time": "2019-09-01T00:06:40.525512Z",
     "start_time": "2019-09-01T00:06:40.496589Z"
    }
   },
   "outputs": [],
   "source": [
    "from sklearn.model_selection import train_test_split\n",
    "X_train, X_test, y_train, y_test = train_test_split(\n",
    "    text_counts, df['label'], test_size=0.3, random_state=1)"
   ]
  },
  {
   "cell_type": "code",
   "execution_count": 147,
   "metadata": {
    "ExecuteTime": {
     "end_time": "2019-09-01T00:06:40.597320Z",
     "start_time": "2019-09-01T00:06:40.526510Z"
    }
   },
   "outputs": [
    {
     "name": "stdout",
     "output_type": "stream",
     "text": [
      "accuracy 0.7939064622549971\n",
      "              precision    recall  f1-score   support\n",
      "\n",
      "         neg       0.78      0.89      0.83      2067\n",
      "         pos       0.80      0.86      0.83      2330\n",
      "       unsup       0.87      0.34      0.49       756\n",
      "\n",
      "   micro avg       0.79      0.79      0.79      5153\n",
      "   macro avg       0.82      0.70      0.72      5153\n",
      "weighted avg       0.80      0.79      0.78      5153\n",
      "\n"
     ]
    }
   ],
   "source": [
    "from sklearn.naive_bayes import MultinomialNB\n",
    "#Import scikit-learn metrics module for accuracy calculation\n",
    "from sklearn import metrics\n",
    "from sklearn.metrics import accuracy_score, confusion_matrix\n",
    "from sklearn.metrics import classification_report\n",
    "\n",
    "# Model Generation Using Multinomial Naive Bayes\n",
    "clf = MultinomialNB().fit(X_train, y_train)\n",
    "predicted= clf.predict(X_test)\n",
    "#print(\"MultinomialNB Accuracy:\",metrics.accuracy_score(y_test, predicted))\n",
    "\n",
    "print('accuracy %s' % accuracy_score(y_test, predicted))\n",
    "print(classification_report(y_test, predicted))"
   ]
  },
  {
   "cell_type": "markdown",
   "metadata": {},
   "source": [
    "## TF_IDF Features"
   ]
  },
  {
   "cell_type": "code",
   "execution_count": 148,
   "metadata": {
    "ExecuteTime": {
     "end_time": "2019-09-01T00:06:42.101270Z",
     "start_time": "2019-09-01T00:06:40.598318Z"
    }
   },
   "outputs": [],
   "source": [
    "from sklearn.feature_extraction.text import TfidfVectorizer\n",
    "tf=TfidfVectorizer()\n",
    "text_tf= tf.fit_transform(df['clean_rev'])"
   ]
  },
  {
   "cell_type": "code",
   "execution_count": 149,
   "metadata": {
    "ExecuteTime": {
     "end_time": "2019-09-01T00:06:42.132318Z",
     "start_time": "2019-09-01T00:06:42.102301Z"
    }
   },
   "outputs": [],
   "source": [
    "from sklearn.model_selection import train_test_split\n",
    "X_train, X_test, y_train, y_test = train_test_split(\n",
    "    text_tf, df['label'], test_size=0.3, random_state=123)"
   ]
  },
  {
   "cell_type": "code",
   "execution_count": 150,
   "metadata": {
    "ExecuteTime": {
     "end_time": "2019-09-01T00:06:42.203026Z",
     "start_time": "2019-09-01T00:06:42.133186Z"
    }
   },
   "outputs": [
    {
     "name": "stdout",
     "output_type": "stream",
     "text": [
      "accuracy 0.7533475645255191\n",
      "              precision    recall  f1-score   support\n",
      "\n",
      "         neg       0.85      0.81      0.83      2058\n",
      "         pos       0.69      0.94      0.80      2348\n",
      "       unsup       0.00      0.00      0.00       747\n",
      "\n",
      "   micro avg       0.75      0.75      0.75      5153\n",
      "   macro avg       0.51      0.58      0.54      5153\n",
      "weighted avg       0.66      0.75      0.70      5153\n",
      "\n"
     ]
    }
   ],
   "source": [
    "from sklearn.naive_bayes import MultinomialNB\n",
    "from sklearn import metrics\n",
    "# Model Generation Using Multinomial Naive Bayes\n",
    "clf = MultinomialNB().fit(X_train, y_train)\n",
    "predicted= clf.predict(X_test)\n",
    "\n",
    "print('accuracy %s' % accuracy_score(y_test, predicted))\n",
    "print(classification_report(y_test, predicted))"
   ]
  },
  {
   "cell_type": "markdown",
   "metadata": {},
   "source": [
    "# Step 3 : Experiments"
   ]
  },
  {
   "cell_type": "code",
   "execution_count": 151,
   "metadata": {
    "ExecuteTime": {
     "end_time": "2019-09-01T00:06:42.210003Z",
     "start_time": "2019-09-01T00:06:42.203996Z"
    }
   },
   "outputs": [
    {
     "data": {
      "text/html": [
       "<div>\n",
       "<style scoped>\n",
       "    .dataframe tbody tr th:only-of-type {\n",
       "        vertical-align: middle;\n",
       "    }\n",
       "\n",
       "    .dataframe tbody tr th {\n",
       "        vertical-align: top;\n",
       "    }\n",
       "\n",
       "    .dataframe thead th {\n",
       "        text-align: right;\n",
       "    }\n",
       "</style>\n",
       "<table border=\"1\" class=\"dataframe\">\n",
       "  <thead>\n",
       "    <tr style=\"text-align: right;\">\n",
       "      <th></th>\n",
       "      <th>label</th>\n",
       "      <th>review</th>\n",
       "      <th>clean_rev</th>\n",
       "    </tr>\n",
       "  </thead>\n",
       "  <tbody>\n",
       "    <tr>\n",
       "      <th>0</th>\n",
       "      <td>neg</td>\n",
       "      <td>This movie should have been called \"The Eyes of Alexander\", and they should have done away with the Bogart concept altogether. The film started out with a lighthearted approach to Bogart's legacy and some comical moments with his surgery oriented face, but after the first 15-30 minutes it morphs...</td>\n",
       "      <td>movie called eyes alexander done away bogart concept altogether film started lighthearted approach bogarts legacy comical moments surgery oriented face first minutes morphs serious thriller two palm size sapphires purportedly laid eyes marble headpiece alexander great seen right death gems great...</td>\n",
       "    </tr>\n",
       "  </tbody>\n",
       "</table>\n",
       "</div>"
      ],
      "text/plain": [
       "  label  \\\n",
       "0   neg   \n",
       "\n",
       "                                                                                                                                                                                                                                                                                                        review  \\\n",
       "0  This movie should have been called \"The Eyes of Alexander\", and they should have done away with the Bogart concept altogether. The film started out with a lighthearted approach to Bogart's legacy and some comical moments with his surgery oriented face, but after the first 15-30 minutes it morphs...   \n",
       "\n",
       "                                                                                                                                                                                                                                                                                                     clean_rev  \n",
       "0  movie called eyes alexander done away bogart concept altogether film started lighthearted approach bogarts legacy comical moments surgery oriented face first minutes morphs serious thriller two palm size sapphires purportedly laid eyes marble headpiece alexander great seen right death gems great...  "
      ]
     },
     "execution_count": 151,
     "metadata": {},
     "output_type": "execute_result"
    }
   ],
   "source": [
    "df.head(1)"
   ]
  },
  {
   "cell_type": "markdown",
   "metadata": {},
   "source": [
    "## Feature Engineering Continued"
   ]
  },
  {
   "cell_type": "code",
   "execution_count": 152,
   "metadata": {
    "ExecuteTime": {
     "end_time": "2019-09-01T00:06:42.307719Z",
     "start_time": "2019-09-01T00:06:42.210977Z"
    }
   },
   "outputs": [
    {
     "data": {
      "text/html": [
       "<div>\n",
       "<style scoped>\n",
       "    .dataframe tbody tr th:only-of-type {\n",
       "        vertical-align: middle;\n",
       "    }\n",
       "\n",
       "    .dataframe tbody tr th {\n",
       "        vertical-align: top;\n",
       "    }\n",
       "\n",
       "    .dataframe thead th {\n",
       "        text-align: right;\n",
       "    }\n",
       "</style>\n",
       "<table border=\"1\" class=\"dataframe\">\n",
       "  <thead>\n",
       "    <tr style=\"text-align: right;\">\n",
       "      <th></th>\n",
       "      <th>clean_rev</th>\n",
       "      <th>word_count</th>\n",
       "    </tr>\n",
       "  </thead>\n",
       "  <tbody>\n",
       "    <tr>\n",
       "      <th>0</th>\n",
       "      <td>movie called eyes alexander done away bogart concept altogether film started lighthearted approach bogarts legacy comical moments surgery oriented face first minutes morphs serious thriller two palm size sapphires purportedly laid eyes marble headpiece alexander great seen right death gems great...</td>\n",
       "      <td>215</td>\n",
       "    </tr>\n",
       "    <tr>\n",
       "      <th>1</th>\n",
       "      <td>wonder free mail sunday slow going poor acting filming camera flare near start movie even artistic straight video case recoup film production costs releasing free uk sunday newspaper least way get captive audience recover costs br br given film due effort pull old actors shell nice see old faces...</td>\n",
       "      <td>74</td>\n",
       "    </tr>\n",
       "    <tr>\n",
       "      <th>2</th>\n",
       "      <td>riddle film ever got made british film industry needs make films people actually want watch look get taxpayers money ala bbc keep luvvies life style accustomed nothing br br film every thing wrong british films relied stereotypes london people either posh corrupt gangsters luvvies gawd blimey je...</td>\n",
       "      <td>115</td>\n",
       "    </tr>\n",
       "    <tr>\n",
       "      <th>3</th>\n",
       "      <td>doesnt surprise makers hopeless movie couldnt find uk distributor release free dvd sunday newspaper distributors could clearly see film makers sunday newspaper couldnt one movie wasnt going recoup costs br br since thriller riddles would helped theyd picked lead actor could enunciate properly ra...</td>\n",
       "      <td>216</td>\n",
       "    </tr>\n",
       "    <tr>\n",
       "      <th>4</th>\n",
       "      <td>could believe original rating found looked film unfortunately looks like alone br br film slow boring really one sad things film given realistic rating around expectation would high br br unfortunately case watching film seeing poor story acting left giving score br br vinnie jones superb lock s...</td>\n",
       "      <td>89</td>\n",
       "    </tr>\n",
       "  </tbody>\n",
       "</table>\n",
       "</div>"
      ],
      "text/plain": [
       "                                                                                                                                                                                                                                                                                                     clean_rev  \\\n",
       "0  movie called eyes alexander done away bogart concept altogether film started lighthearted approach bogarts legacy comical moments surgery oriented face first minutes morphs serious thriller two palm size sapphires purportedly laid eyes marble headpiece alexander great seen right death gems great...   \n",
       "1  wonder free mail sunday slow going poor acting filming camera flare near start movie even artistic straight video case recoup film production costs releasing free uk sunday newspaper least way get captive audience recover costs br br given film due effort pull old actors shell nice see old faces...   \n",
       "2  riddle film ever got made british film industry needs make films people actually want watch look get taxpayers money ala bbc keep luvvies life style accustomed nothing br br film every thing wrong british films relied stereotypes london people either posh corrupt gangsters luvvies gawd blimey je...   \n",
       "3  doesnt surprise makers hopeless movie couldnt find uk distributor release free dvd sunday newspaper distributors could clearly see film makers sunday newspaper couldnt one movie wasnt going recoup costs br br since thriller riddles would helped theyd picked lead actor could enunciate properly ra...   \n",
       "4  could believe original rating found looked film unfortunately looks like alone br br film slow boring really one sad things film given realistic rating around expectation would high br br unfortunately case watching film seeing poor story acting left giving score br br vinnie jones superb lock s...   \n",
       "\n",
       "   word_count  \n",
       "0         215  \n",
       "1          74  \n",
       "2         115  \n",
       "3         216  \n",
       "4          89  "
      ]
     },
     "execution_count": 152,
     "metadata": {},
     "output_type": "execute_result"
    }
   ],
   "source": [
    "# Feature 1 : Word Count\n",
    "#number of words\n",
    "df['word_count'] = df['clean_rev'].apply(lambda x: len(str(x).split(\" \")))\n",
    "df[['clean_rev','word_count']].head()"
   ]
  },
  {
   "cell_type": "code",
   "execution_count": 153,
   "metadata": {
    "ExecuteTime": {
     "end_time": "2019-09-01T00:06:42.322678Z",
     "start_time": "2019-09-01T00:06:42.308715Z"
    }
   },
   "outputs": [
    {
     "data": {
      "text/html": [
       "<div>\n",
       "<style scoped>\n",
       "    .dataframe tbody tr th:only-of-type {\n",
       "        vertical-align: middle;\n",
       "    }\n",
       "\n",
       "    .dataframe tbody tr th {\n",
       "        vertical-align: top;\n",
       "    }\n",
       "\n",
       "    .dataframe thead th {\n",
       "        text-align: right;\n",
       "    }\n",
       "</style>\n",
       "<table border=\"1\" class=\"dataframe\">\n",
       "  <thead>\n",
       "    <tr style=\"text-align: right;\">\n",
       "      <th></th>\n",
       "      <th>clean_rev</th>\n",
       "      <th>char_count</th>\n",
       "    </tr>\n",
       "  </thead>\n",
       "  <tbody>\n",
       "    <tr>\n",
       "      <th>0</th>\n",
       "      <td>movie called eyes alexander done away bogart concept altogether film started lighthearted approach bogarts legacy comical moments surgery oriented face first minutes morphs serious thriller two palm size sapphires purportedly laid eyes marble headpiece alexander great seen right death gems great...</td>\n",
       "      <td>1475</td>\n",
       "    </tr>\n",
       "    <tr>\n",
       "      <th>1</th>\n",
       "      <td>wonder free mail sunday slow going poor acting filming camera flare near start movie even artistic straight video case recoup film production costs releasing free uk sunday newspaper least way get captive audience recover costs br br given film due effort pull old actors shell nice see old faces...</td>\n",
       "      <td>443</td>\n",
       "    </tr>\n",
       "    <tr>\n",
       "      <th>2</th>\n",
       "      <td>riddle film ever got made british film industry needs make films people actually want watch look get taxpayers money ala bbc keep luvvies life style accustomed nothing br br film every thing wrong british films relied stereotypes london people either posh corrupt gangsters luvvies gawd blimey je...</td>\n",
       "      <td>731</td>\n",
       "    </tr>\n",
       "    <tr>\n",
       "      <th>3</th>\n",
       "      <td>doesnt surprise makers hopeless movie couldnt find uk distributor release free dvd sunday newspaper distributors could clearly see film makers sunday newspaper couldnt one movie wasnt going recoup costs br br since thriller riddles would helped theyd picked lead actor could enunciate properly ra...</td>\n",
       "      <td>1540</td>\n",
       "    </tr>\n",
       "    <tr>\n",
       "      <th>4</th>\n",
       "      <td>could believe original rating found looked film unfortunately looks like alone br br film slow boring really one sad things film given realistic rating around expectation would high br br unfortunately case watching film seeing poor story acting left giving score br br vinnie jones superb lock s...</td>\n",
       "      <td>560</td>\n",
       "    </tr>\n",
       "  </tbody>\n",
       "</table>\n",
       "</div>"
      ],
      "text/plain": [
       "                                                                                                                                                                                                                                                                                                     clean_rev  \\\n",
       "0  movie called eyes alexander done away bogart concept altogether film started lighthearted approach bogarts legacy comical moments surgery oriented face first minutes morphs serious thriller two palm size sapphires purportedly laid eyes marble headpiece alexander great seen right death gems great...   \n",
       "1  wonder free mail sunday slow going poor acting filming camera flare near start movie even artistic straight video case recoup film production costs releasing free uk sunday newspaper least way get captive audience recover costs br br given film due effort pull old actors shell nice see old faces...   \n",
       "2  riddle film ever got made british film industry needs make films people actually want watch look get taxpayers money ala bbc keep luvvies life style accustomed nothing br br film every thing wrong british films relied stereotypes london people either posh corrupt gangsters luvvies gawd blimey je...   \n",
       "3  doesnt surprise makers hopeless movie couldnt find uk distributor release free dvd sunday newspaper distributors could clearly see film makers sunday newspaper couldnt one movie wasnt going recoup costs br br since thriller riddles would helped theyd picked lead actor could enunciate properly ra...   \n",
       "4  could believe original rating found looked film unfortunately looks like alone br br film slow boring really one sad things film given realistic rating around expectation would high br br unfortunately case watching film seeing poor story acting left giving score br br vinnie jones superb lock s...   \n",
       "\n",
       "   char_count  \n",
       "0        1475  \n",
       "1         443  \n",
       "2         731  \n",
       "3        1540  \n",
       "4         560  "
      ]
     },
     "execution_count": 153,
     "metadata": {},
     "output_type": "execute_result"
    }
   ],
   "source": [
    "# Feature 2 : number of characters\n",
    "df['char_count'] = df['clean_rev'].str.len() ## this also includes spaces\n",
    "df[['clean_rev','char_count']].head()"
   ]
  },
  {
   "cell_type": "code",
   "execution_count": 154,
   "metadata": {
    "ExecuteTime": {
     "end_time": "2019-09-01T00:06:42.582982Z",
     "start_time": "2019-09-01T00:06:42.324673Z"
    }
   },
   "outputs": [
    {
     "data": {
      "text/html": [
       "<div>\n",
       "<style scoped>\n",
       "    .dataframe tbody tr th:only-of-type {\n",
       "        vertical-align: middle;\n",
       "    }\n",
       "\n",
       "    .dataframe tbody tr th {\n",
       "        vertical-align: top;\n",
       "    }\n",
       "\n",
       "    .dataframe thead th {\n",
       "        text-align: right;\n",
       "    }\n",
       "</style>\n",
       "<table border=\"1\" class=\"dataframe\">\n",
       "  <thead>\n",
       "    <tr style=\"text-align: right;\">\n",
       "      <th></th>\n",
       "      <th>clean_rev</th>\n",
       "      <th>avg_word</th>\n",
       "    </tr>\n",
       "  </thead>\n",
       "  <tbody>\n",
       "    <tr>\n",
       "      <th>0</th>\n",
       "      <td>movie called eyes alexander done away bogart concept altogether film started lighthearted approach bogarts legacy comical moments surgery oriented face first minutes morphs serious thriller two palm size sapphires purportedly laid eyes marble headpiece alexander great seen right death gems great...</td>\n",
       "      <td>5.865116</td>\n",
       "    </tr>\n",
       "    <tr>\n",
       "      <th>1</th>\n",
       "      <td>wonder free mail sunday slow going poor acting filming camera flare near start movie even artistic straight video case recoup film production costs releasing free uk sunday newspaper least way get captive audience recover costs br br given film due effort pull old actors shell nice see old faces...</td>\n",
       "      <td>5.000000</td>\n",
       "    </tr>\n",
       "    <tr>\n",
       "      <th>2</th>\n",
       "      <td>riddle film ever got made british film industry needs make films people actually want watch look get taxpayers money ala bbc keep luvvies life style accustomed nothing br br film every thing wrong british films relied stereotypes london people either posh corrupt gangsters luvvies gawd blimey je...</td>\n",
       "      <td>5.365217</td>\n",
       "    </tr>\n",
       "    <tr>\n",
       "      <th>3</th>\n",
       "      <td>doesnt surprise makers hopeless movie couldnt find uk distributor release free dvd sunday newspaper distributors could clearly see film makers sunday newspaper couldnt one movie wasnt going recoup costs br br since thriller riddles would helped theyd picked lead actor could enunciate properly ra...</td>\n",
       "      <td>6.134259</td>\n",
       "    </tr>\n",
       "    <tr>\n",
       "      <th>4</th>\n",
       "      <td>could believe original rating found looked film unfortunately looks like alone br br film slow boring really one sad things film given realistic rating around expectation would high br br unfortunately case watching film seeing poor story acting left giving score br br vinnie jones superb lock s...</td>\n",
       "      <td>5.303371</td>\n",
       "    </tr>\n",
       "  </tbody>\n",
       "</table>\n",
       "</div>"
      ],
      "text/plain": [
       "                                                                                                                                                                                                                                                                                                     clean_rev  \\\n",
       "0  movie called eyes alexander done away bogart concept altogether film started lighthearted approach bogarts legacy comical moments surgery oriented face first minutes morphs serious thriller two palm size sapphires purportedly laid eyes marble headpiece alexander great seen right death gems great...   \n",
       "1  wonder free mail sunday slow going poor acting filming camera flare near start movie even artistic straight video case recoup film production costs releasing free uk sunday newspaper least way get captive audience recover costs br br given film due effort pull old actors shell nice see old faces...   \n",
       "2  riddle film ever got made british film industry needs make films people actually want watch look get taxpayers money ala bbc keep luvvies life style accustomed nothing br br film every thing wrong british films relied stereotypes london people either posh corrupt gangsters luvvies gawd blimey je...   \n",
       "3  doesnt surprise makers hopeless movie couldnt find uk distributor release free dvd sunday newspaper distributors could clearly see film makers sunday newspaper couldnt one movie wasnt going recoup costs br br since thriller riddles would helped theyd picked lead actor could enunciate properly ra...   \n",
       "4  could believe original rating found looked film unfortunately looks like alone br br film slow boring really one sad things film given realistic rating around expectation would high br br unfortunately case watching film seeing poor story acting left giving score br br vinnie jones superb lock s...   \n",
       "\n",
       "   avg_word  \n",
       "0  5.865116  \n",
       "1  5.000000  \n",
       "2  5.365217  \n",
       "3  6.134259  \n",
       "4  5.303371  "
      ]
     },
     "execution_count": 154,
     "metadata": {},
     "output_type": "execute_result"
    }
   ],
   "source": [
    "# Feature 3 : avg word length\n",
    "def avg_word(sentence):\n",
    "  words = sentence.split()\n",
    "  return (sum(len(word) for word in words)/len(words))\n",
    "\n",
    "df['avg_word'] = df['clean_rev'].apply(lambda x: avg_word(x))\n",
    "df[['clean_rev','avg_word']].head()"
   ]
  },
  {
   "cell_type": "code",
   "execution_count": 155,
   "metadata": {
    "ExecuteTime": {
     "end_time": "2019-09-01T00:06:42.594950Z",
     "start_time": "2019-09-01T00:06:42.584977Z"
    }
   },
   "outputs": [
    {
     "data": {
      "text/html": [
       "<div>\n",
       "<style scoped>\n",
       "    .dataframe tbody tr th:only-of-type {\n",
       "        vertical-align: middle;\n",
       "    }\n",
       "\n",
       "    .dataframe tbody tr th {\n",
       "        vertical-align: top;\n",
       "    }\n",
       "\n",
       "    .dataframe thead th {\n",
       "        text-align: right;\n",
       "    }\n",
       "</style>\n",
       "<table border=\"1\" class=\"dataframe\">\n",
       "  <thead>\n",
       "    <tr style=\"text-align: right;\">\n",
       "      <th></th>\n",
       "      <th>label</th>\n",
       "      <th>review</th>\n",
       "      <th>clean_rev</th>\n",
       "      <th>word_count</th>\n",
       "      <th>char_count</th>\n",
       "      <th>avg_word</th>\n",
       "      <th>diversity</th>\n",
       "    </tr>\n",
       "  </thead>\n",
       "  <tbody>\n",
       "    <tr>\n",
       "      <th>0</th>\n",
       "      <td>neg</td>\n",
       "      <td>This movie should have been called \"The Eyes of Alexander\", and they should have done away with the Bogart concept altogether. The film started out with a lighthearted approach to Bogart's legacy and some comical moments with his surgery oriented face, but after the first 15-30 minutes it morphs...</td>\n",
       "      <td>movie called eyes alexander done away bogart concept altogether film started lighthearted approach bogarts legacy comical moments surgery oriented face first minutes morphs serious thriller two palm size sapphires purportedly laid eyes marble headpiece alexander great seen right death gems great...</td>\n",
       "      <td>215</td>\n",
       "      <td>1475</td>\n",
       "      <td>5.865116</td>\n",
       "      <td>6.860465</td>\n",
       "    </tr>\n",
       "  </tbody>\n",
       "</table>\n",
       "</div>"
      ],
      "text/plain": [
       "  label  \\\n",
       "0   neg   \n",
       "\n",
       "                                                                                                                                                                                                                                                                                                        review  \\\n",
       "0  This movie should have been called \"The Eyes of Alexander\", and they should have done away with the Bogart concept altogether. The film started out with a lighthearted approach to Bogart's legacy and some comical moments with his surgery oriented face, but after the first 15-30 minutes it morphs...   \n",
       "\n",
       "                                                                                                                                                                                                                                                                                                     clean_rev  \\\n",
       "0  movie called eyes alexander done away bogart concept altogether film started lighthearted approach bogarts legacy comical moments surgery oriented face first minutes morphs serious thriller two palm size sapphires purportedly laid eyes marble headpiece alexander great seen right death gems great...   \n",
       "\n",
       "   word_count  char_count  avg_word  diversity  \n",
       "0         215        1475  5.865116   6.860465  "
      ]
     },
     "execution_count": 155,
     "metadata": {},
     "output_type": "execute_result"
    }
   ],
   "source": [
    "# Feature 4 : Diversity_score i.e. Average length of words used in statement\n",
    "df['diversity'] = df['char_count'] / df['word_count']\n",
    "df.head(1) "
   ]
  },
  {
   "cell_type": "code",
   "execution_count": 156,
   "metadata": {
    "ExecuteTime": {
     "end_time": "2019-09-01T00:06:55.250112Z",
     "start_time": "2019-09-01T00:06:42.595948Z"
    }
   },
   "outputs": [
    {
     "data": {
      "text/html": [
       "<div>\n",
       "<style scoped>\n",
       "    .dataframe tbody tr th:only-of-type {\n",
       "        vertical-align: middle;\n",
       "    }\n",
       "\n",
       "    .dataframe tbody tr th {\n",
       "        vertical-align: top;\n",
       "    }\n",
       "\n",
       "    .dataframe thead th {\n",
       "        text-align: right;\n",
       "    }\n",
       "</style>\n",
       "<table border=\"1\" class=\"dataframe\">\n",
       "  <thead>\n",
       "    <tr style=\"text-align: right;\">\n",
       "      <th></th>\n",
       "      <th>label</th>\n",
       "      <th>review</th>\n",
       "      <th>clean_rev</th>\n",
       "      <th>word_count</th>\n",
       "      <th>char_count</th>\n",
       "      <th>avg_word</th>\n",
       "      <th>diversity</th>\n",
       "      <th>polarity</th>\n",
       "    </tr>\n",
       "  </thead>\n",
       "  <tbody>\n",
       "    <tr>\n",
       "      <th>0</th>\n",
       "      <td>neg</td>\n",
       "      <td>This movie should have been called \"The Eyes of Alexander\", and they should have done away with the Bogart concept altogether. The film started out with a lighthearted approach to Bogart's legacy and some comical moments with his surgery oriented face, but after the first 15-30 minutes it morphs...</td>\n",
       "      <td>movie called eyes alexander done away bogart concept altogether film started lighthearted approach bogarts legacy comical moments surgery oriented face first minutes morphs serious thriller two palm size sapphires purportedly laid eyes marble headpiece alexander great seen right death gems great...</td>\n",
       "      <td>215</td>\n",
       "      <td>1475</td>\n",
       "      <td>5.865116</td>\n",
       "      <td>6.860465</td>\n",
       "      <td>0.288955</td>\n",
       "    </tr>\n",
       "  </tbody>\n",
       "</table>\n",
       "</div>"
      ],
      "text/plain": [
       "  label  \\\n",
       "0   neg   \n",
       "\n",
       "                                                                                                                                                                                                                                                                                                        review  \\\n",
       "0  This movie should have been called \"The Eyes of Alexander\", and they should have done away with the Bogart concept altogether. The film started out with a lighthearted approach to Bogart's legacy and some comical moments with his surgery oriented face, but after the first 15-30 minutes it morphs...   \n",
       "\n",
       "                                                                                                                                                                                                                                                                                                     clean_rev  \\\n",
       "0  movie called eyes alexander done away bogart concept altogether film started lighthearted approach bogarts legacy comical moments surgery oriented face first minutes morphs serious thriller two palm size sapphires purportedly laid eyes marble headpiece alexander great seen right death gems great...   \n",
       "\n",
       "   word_count  char_count  avg_word  diversity  polarity  \n",
       "0         215        1475  5.865116   6.860465  0.288955  "
      ]
     },
     "execution_count": 156,
     "metadata": {},
     "output_type": "execute_result"
    }
   ],
   "source": [
    "#Feature 5 : Polarity\n",
    "from textblob import TextBlob\n",
    "df['polarity'] = df['clean_rev'].map(lambda text: TextBlob(text).sentiment.polarity)\n",
    "df.head(1)"
   ]
  },
  {
   "cell_type": "code",
   "execution_count": 157,
   "metadata": {
    "ExecuteTime": {
     "end_time": "2019-09-01T00:06:55.329895Z",
     "start_time": "2019-09-01T00:06:55.251136Z"
    }
   },
   "outputs": [
    {
     "data": {
      "text/html": [
       "<div>\n",
       "<style scoped>\n",
       "    .dataframe tbody tr th:only-of-type {\n",
       "        vertical-align: middle;\n",
       "    }\n",
       "\n",
       "    .dataframe tbody tr th {\n",
       "        vertical-align: top;\n",
       "    }\n",
       "\n",
       "    .dataframe thead th {\n",
       "        text-align: right;\n",
       "    }\n",
       "</style>\n",
       "<table border=\"1\" class=\"dataframe\">\n",
       "  <thead>\n",
       "    <tr style=\"text-align: right;\">\n",
       "      <th></th>\n",
       "      <th>label</th>\n",
       "      <th>review</th>\n",
       "      <th>clean_rev</th>\n",
       "      <th>word_count</th>\n",
       "      <th>char_count</th>\n",
       "      <th>avg_word</th>\n",
       "      <th>diversity</th>\n",
       "      <th>polarity</th>\n",
       "      <th>char_count_w/o_spaces</th>\n",
       "    </tr>\n",
       "  </thead>\n",
       "  <tbody>\n",
       "    <tr>\n",
       "      <th>0</th>\n",
       "      <td>neg</td>\n",
       "      <td>This movie should have been called \"The Eyes of Alexander\", and they should have done away with the Bogart concept altogether. The film started out with a lighthearted approach to Bogart's legacy and some comical moments with his surgery oriented face, but after the first 15-30 minutes it morphs...</td>\n",
       "      <td>movie called eyes alexander done away bogart concept altogether film started lighthearted approach bogarts legacy comical moments surgery oriented face first minutes morphs serious thriller two palm size sapphires purportedly laid eyes marble headpiece alexander great seen right death gems great...</td>\n",
       "      <td>215</td>\n",
       "      <td>1475</td>\n",
       "      <td>5.865116</td>\n",
       "      <td>6.860465</td>\n",
       "      <td>0.288955</td>\n",
       "      <td>1261</td>\n",
       "    </tr>\n",
       "  </tbody>\n",
       "</table>\n",
       "</div>"
      ],
      "text/plain": [
       "  label  \\\n",
       "0   neg   \n",
       "\n",
       "                                                                                                                                                                                                                                                                                                        review  \\\n",
       "0  This movie should have been called \"The Eyes of Alexander\", and they should have done away with the Bogart concept altogether. The film started out with a lighthearted approach to Bogart's legacy and some comical moments with his surgery oriented face, but after the first 15-30 minutes it morphs...   \n",
       "\n",
       "                                                                                                                                                                                                                                                                                                     clean_rev  \\\n",
       "0  movie called eyes alexander done away bogart concept altogether film started lighthearted approach bogarts legacy comical moments surgery oriented face first minutes morphs serious thriller two palm size sapphires purportedly laid eyes marble headpiece alexander great seen right death gems great...   \n",
       "\n",
       "   word_count  char_count  avg_word  diversity  polarity  \\\n",
       "0         215        1475  5.865116   6.860465  0.288955   \n",
       "\n",
       "   char_count_w/o_spaces  \n",
       "0                   1261  "
      ]
     },
     "execution_count": 157,
     "metadata": {},
     "output_type": "execute_result"
    }
   ],
   "source": [
    "#Feature 6 : Chars without spaces\n",
    "df[\"char_count_w/o_spaces\"] = df[\"clean_rev\"].apply(lambda x : len(x.replace(\" \",\"\")))\n",
    "df.head(1)"
   ]
  },
  {
   "cell_type": "markdown",
   "metadata": {},
   "source": [
    "## Experiment 1 "
   ]
  },
  {
   "cell_type": "code",
   "execution_count": 158,
   "metadata": {
    "ExecuteTime": {
     "end_time": "2019-09-01T00:06:55.340866Z",
     "start_time": "2019-09-01T00:06:55.330893Z"
    }
   },
   "outputs": [
    {
     "data": {
      "text/html": [
       "<div>\n",
       "<style scoped>\n",
       "    .dataframe tbody tr th:only-of-type {\n",
       "        vertical-align: middle;\n",
       "    }\n",
       "\n",
       "    .dataframe tbody tr th {\n",
       "        vertical-align: top;\n",
       "    }\n",
       "\n",
       "    .dataframe thead th {\n",
       "        text-align: right;\n",
       "    }\n",
       "</style>\n",
       "<table border=\"1\" class=\"dataframe\">\n",
       "  <thead>\n",
       "    <tr style=\"text-align: right;\">\n",
       "      <th></th>\n",
       "      <th>label</th>\n",
       "      <th>review</th>\n",
       "      <th>clean_rev</th>\n",
       "      <th>word_count</th>\n",
       "      <th>char_count</th>\n",
       "      <th>avg_word</th>\n",
       "      <th>diversity</th>\n",
       "      <th>polarity</th>\n",
       "      <th>char_count_w/o_spaces</th>\n",
       "    </tr>\n",
       "  </thead>\n",
       "  <tbody>\n",
       "    <tr>\n",
       "      <th>0</th>\n",
       "      <td>neg</td>\n",
       "      <td>This movie should have been called \"The Eyes of Alexander\", and they should have done away with the Bogart concept altogether. The film started out with a lighthearted approach to Bogart's legacy and some comical moments with his surgery oriented face, but after the first 15-30 minutes it morphs...</td>\n",
       "      <td>movie called eyes alexander done away bogart concept altogether film started lighthearted approach bogarts legacy comical moments surgery oriented face first minutes morphs serious thriller two palm size sapphires purportedly laid eyes marble headpiece alexander great seen right death gems great...</td>\n",
       "      <td>215</td>\n",
       "      <td>1475</td>\n",
       "      <td>5.865116</td>\n",
       "      <td>6.860465</td>\n",
       "      <td>0.288955</td>\n",
       "      <td>1261</td>\n",
       "    </tr>\n",
       "  </tbody>\n",
       "</table>\n",
       "</div>"
      ],
      "text/plain": [
       "  label  \\\n",
       "0   neg   \n",
       "\n",
       "                                                                                                                                                                                                                                                                                                        review  \\\n",
       "0  This movie should have been called \"The Eyes of Alexander\", and they should have done away with the Bogart concept altogether. The film started out with a lighthearted approach to Bogart's legacy and some comical moments with his surgery oriented face, but after the first 15-30 minutes it morphs...   \n",
       "\n",
       "                                                                                                                                                                                                                                                                                                     clean_rev  \\\n",
       "0  movie called eyes alexander done away bogart concept altogether film started lighthearted approach bogarts legacy comical moments surgery oriented face first minutes morphs serious thriller two palm size sapphires purportedly laid eyes marble headpiece alexander great seen right death gems great...   \n",
       "\n",
       "   word_count  char_count  avg_word  diversity  polarity  \\\n",
       "0         215        1475  5.865116   6.860465  0.288955   \n",
       "\n",
       "   char_count_w/o_spaces  \n",
       "0                   1261  "
      ]
     },
     "execution_count": 158,
     "metadata": {},
     "output_type": "execute_result"
    }
   ],
   "source": [
    "#df2 = df.drop([\"review\"], axis=1)\n",
    "df2 = df\n",
    "df2.head(1)"
   ]
  },
  {
   "cell_type": "code",
   "execution_count": 159,
   "metadata": {
    "ExecuteTime": {
     "end_time": "2019-09-01T00:07:00.795410Z",
     "start_time": "2019-09-01T00:06:55.341864Z"
    }
   },
   "outputs": [],
   "source": [
    "from sklearn.feature_extraction.text import CountVectorizer, TfidfVectorizer\n",
    "cvz = CountVectorizer()\n",
    "cvz.fit(df[\"clean_rev\"].values)\n",
    "count_vectors = cvz.transform(df2[\"clean_rev\"].values)\n",
    "\n",
    "#Vectorizoer\n",
    "word_tfidf =TfidfVectorizer(max_features=500)\n",
    "word_tfidf.fit(df2[\"clean_rev\"].values)\n",
    "word_vectors_tfidf = word_tfidf.transform(df2[\"clean_rev\"].values)\n"
   ]
  },
  {
   "cell_type": "code",
   "execution_count": 160,
   "metadata": {
    "ExecuteTime": {
     "end_time": "2019-09-01T00:07:00.849137Z",
     "start_time": "2019-09-01T00:07:00.796279Z"
    }
   },
   "outputs": [
    {
     "data": {
      "text/plain": [
       "<17175x506 sparse matrix of type '<class 'numpy.float64'>'\n",
       "\twith 840351 stored elements in Compressed Sparse Row format>"
      ]
     },
     "execution_count": 160,
     "metadata": {},
     "output_type": "execute_result"
    }
   ],
   "source": [
    "from scipy.sparse import hstack, csr_matrix\n",
    "\n",
    "meta_features = ['word_count','char_count', 'avg_word','diversity','polarity','char_count_w/o_spaces'\n",
    "                ]\n",
    "\n",
    "feature_set1 = df2[meta_features]\n",
    "\n",
    "train = hstack([word_vectors_tfidf, csr_matrix(feature_set1)], \"csr\")\n",
    "train"
   ]
  },
  {
   "cell_type": "code",
   "execution_count": 161,
   "metadata": {
    "ExecuteTime": {
     "end_time": "2019-09-01T00:07:00.856121Z",
     "start_time": "2019-09-01T00:07:00.850134Z"
    }
   },
   "outputs": [],
   "source": [
    "from sklearn.preprocessing import LabelEncoder \n",
    "\n",
    "target = df2['label'].values\n",
    "target = LabelEncoder().fit_transform(target)"
   ]
  },
  {
   "cell_type": "code",
   "execution_count": 162,
   "metadata": {
    "ExecuteTime": {
     "end_time": "2019-09-01T00:07:00.876064Z",
     "start_time": "2019-09-01T00:07:00.857115Z"
    }
   },
   "outputs": [
    {
     "data": {
      "text/plain": [
       "(12881, 506)"
      ]
     },
     "execution_count": 162,
     "metadata": {},
     "output_type": "execute_result"
    }
   ],
   "source": [
    "from sklearn.model_selection import train_test_split\n",
    "train_x, val_x, train_y, val_y = train_test_split(train, target)\n",
    "train_x.shape"
   ]
  },
  {
   "cell_type": "code",
   "execution_count": 163,
   "metadata": {
    "ExecuteTime": {
     "end_time": "2019-09-01T00:07:00.882049Z",
     "start_time": "2019-09-01T00:07:00.877062Z"
    }
   },
   "outputs": [
    {
     "data": {
      "text/plain": [
       "(4294, 506)"
      ]
     },
     "execution_count": 163,
     "metadata": {},
     "output_type": "execute_result"
    }
   ],
   "source": [
    "val_x.shape"
   ]
  },
  {
   "cell_type": "code",
   "execution_count": 164,
   "metadata": {
    "ExecuteTime": {
     "end_time": "2019-09-01T00:07:00.889031Z",
     "start_time": "2019-09-01T00:07:00.884045Z"
    }
   },
   "outputs": [],
   "source": [
    "from sklearn import naive_bayes\n",
    "from sklearn.linear_model import LogisticRegression\n",
    "from sklearn import svm \n",
    "from sklearn import ensemble\n",
    "from sklearn.metrics import accuracy_score, confusion_matrix\n",
    "\n"
   ]
  },
  {
   "cell_type": "markdown",
   "metadata": {},
   "source": [
    "## Log Regression"
   ]
  },
  {
   "cell_type": "code",
   "execution_count": 165,
   "metadata": {
    "ExecuteTime": {
     "end_time": "2019-09-01T00:07:01.539291Z",
     "start_time": "2019-09-01T00:07:00.890027Z"
    }
   },
   "outputs": [
    {
     "name": "stdout",
     "output_type": "stream",
     "text": [
      "accuracy 0.7147182114578482\n",
      "              precision    recall  f1-score   support\n",
      "\n",
      "           0       0.82      0.76      0.79      1916\n",
      "           1       0.85      0.68      0.75      2378\n",
      "           2       0.00      0.00      0.00         0\n",
      "\n",
      "   micro avg       0.71      0.71      0.71      4294\n",
      "   macro avg       0.56      0.48      0.51      4294\n",
      "weighted avg       0.84      0.71      0.77      4294\n",
      "\n"
     ]
    }
   ],
   "source": [
    "model = LogisticRegression()\n",
    "model.fit(train_x, train_y)\n",
    "preds = model.predict(val_x)\n",
    "print('accuracy %s' % accuracy_score(preds, val_y))\n",
    "print(classification_report(preds, val_y))"
   ]
  },
  {
   "cell_type": "markdown",
   "metadata": {},
   "source": [
    "## Naive Bayes"
   ]
  },
  {
   "cell_type": "code",
   "execution_count": 166,
   "metadata": {
    "ExecuteTime": {
     "end_time": "2019-09-01T00:07:03.135049Z",
     "start_time": "2019-09-01T00:07:01.540288Z"
    }
   },
   "outputs": [
    {
     "name": "stdout",
     "output_type": "stream",
     "text": [
      "accuracy 0.7535416262371434\n",
      "              precision    recall  f1-score   support\n",
      "\n",
      "         neg       0.84      0.81      0.83      2060\n",
      "         pos       0.70      0.94      0.80      2363\n",
      "       unsup       0.00      0.00      0.00       730\n",
      "\n",
      "   micro avg       0.75      0.75      0.75      5153\n",
      "   macro avg       0.51      0.58      0.54      5153\n",
      "weighted avg       0.66      0.75      0.70      5153\n",
      "\n"
     ]
    }
   ],
   "source": [
    "from sklearn.metrics import accuracy_score, confusion_matrix\n",
    "from sklearn.naive_bayes import MultinomialNB\n",
    "from sklearn.pipeline import Pipeline\n",
    "from sklearn.feature_extraction.text import TfidfTransformer\n",
    "\n",
    "X = df['clean_rev']\n",
    "y = df['label']\n",
    "X_train, X_test, y_train, y_test = train_test_split(X, y, test_size=0.3, random_state = 42)\n",
    "\n",
    "nb = Pipeline([('vect', CountVectorizer()),\n",
    "               ('tfidf', TfidfTransformer()),\n",
    "               ('clf', MultinomialNB()),\n",
    "              ])\n",
    "nb.fit(X_train, y_train)\n",
    "\n",
    "\n",
    "from sklearn.metrics import classification_report\n",
    "y_pred = nb.predict(X_test)\n",
    "\n",
    "print('accuracy %s' % accuracy_score(y_pred, y_test))\n",
    "print(classification_report(y_test, y_pred))"
   ]
  },
  {
   "cell_type": "markdown",
   "metadata": {},
   "source": [
    "## Support Vector Machine"
   ]
  },
  {
   "cell_type": "code",
   "execution_count": 167,
   "metadata": {
    "ExecuteTime": {
     "end_time": "2019-09-01T00:07:04.808683Z",
     "start_time": "2019-09-01T00:07:03.136028Z"
    }
   },
   "outputs": [
    {
     "name": "stdout",
     "output_type": "stream",
     "text": [
      "accuracy 0.7426741703861828\n",
      "              precision    recall  f1-score   support\n",
      "\n",
      "         neg       0.83      0.79      0.81      2060\n",
      "         pos       0.69      0.93      0.79      2363\n",
      "       unsup       1.00      0.00      0.00       730\n",
      "\n",
      "   micro avg       0.74      0.74      0.74      5153\n",
      "   macro avg       0.84      0.57      0.53      5153\n",
      "weighted avg       0.79      0.74      0.69      5153\n",
      "\n"
     ]
    }
   ],
   "source": [
    "from sklearn.linear_model import SGDClassifier\n",
    "from sklearn.pipeline import Pipeline\n",
    "from sklearn.feature_extraction.text import TfidfTransformer\n",
    "from sklearn.metrics import accuracy_score, confusion_matrix\n",
    "\n",
    "sgd = Pipeline([('vect', CountVectorizer()),\n",
    "                ('tfidf', TfidfTransformer()),\n",
    "                ('clf', SGDClassifier(loss='hinge', penalty='l2',alpha=1e-3, random_state=42, max_iter=5, tol=None)),\n",
    "               ])\n",
    "sgd.fit(X_train, y_train)\n",
    "\n",
    "\n",
    "y_pred = sgd.predict(X_test)\n",
    "\n",
    "print('accuracy %s' % accuracy_score(y_pred, y_test))\n",
    "print(classification_report(y_test, y_pred))"
   ]
  },
  {
   "cell_type": "markdown",
   "metadata": {},
   "source": [
    "## Word to Vec"
   ]
  },
  {
   "cell_type": "code",
   "execution_count": 168,
   "metadata": {
    "ExecuteTime": {
     "end_time": "2019-09-01T00:07:08.334252Z",
     "start_time": "2019-09-01T00:07:04.809571Z"
    }
   },
   "outputs": [
    {
     "name": "stdout",
     "output_type": "stream",
     "text": [
      "accuracy 0.8078789054919464\n",
      "              precision    recall  f1-score   support\n",
      "\n",
      "         neg       0.83      0.85      0.84      2060\n",
      "         pos       0.81      0.87      0.84      2363\n",
      "       unsup       0.70      0.50      0.58       730\n",
      "\n",
      "   micro avg       0.81      0.81      0.81      5153\n",
      "   macro avg       0.78      0.74      0.75      5153\n",
      "weighted avg       0.80      0.81      0.80      5153\n",
      "\n"
     ]
    }
   ],
   "source": [
    "from sklearn.linear_model import LogisticRegression\n",
    "\n",
    "logreg = Pipeline([('vect', CountVectorizer()),\n",
    "                ('tfidf', TfidfTransformer()),\n",
    "                ('clf', LogisticRegression(n_jobs=1, C=1e5)),\n",
    "               ])\n",
    "logreg.fit(X_train, y_train)\n",
    "\n",
    "\n",
    "y_pred = logreg.predict(X_test)\n",
    "\n",
    "print('accuracy %s' % accuracy_score(y_pred, y_test))\n",
    "print(classification_report(y_test, y_pred))"
   ]
  },
  {
   "cell_type": "markdown",
   "metadata": {},
   "source": [
    "## Experiments 2 : Part A"
   ]
  },
  {
   "cell_type": "markdown",
   "metadata": {},
   "source": [
    "### ...Even More Feature Engineering"
   ]
  },
  {
   "cell_type": "code",
   "execution_count": 169,
   "metadata": {
    "ExecuteTime": {
     "end_time": "2019-09-01T00:07:08.346105Z",
     "start_time": "2019-09-01T00:07:08.335121Z"
    }
   },
   "outputs": [
    {
     "data": {
      "text/html": [
       "<div>\n",
       "<style scoped>\n",
       "    .dataframe tbody tr th:only-of-type {\n",
       "        vertical-align: middle;\n",
       "    }\n",
       "\n",
       "    .dataframe tbody tr th {\n",
       "        vertical-align: top;\n",
       "    }\n",
       "\n",
       "    .dataframe thead th {\n",
       "        text-align: right;\n",
       "    }\n",
       "</style>\n",
       "<table border=\"1\" class=\"dataframe\">\n",
       "  <thead>\n",
       "    <tr style=\"text-align: right;\">\n",
       "      <th></th>\n",
       "      <th>label</th>\n",
       "      <th>review</th>\n",
       "      <th>clean_rev</th>\n",
       "      <th>word_count</th>\n",
       "      <th>char_count</th>\n",
       "      <th>avg_word</th>\n",
       "      <th>diversity</th>\n",
       "      <th>polarity</th>\n",
       "      <th>char_count_w/o_spaces</th>\n",
       "    </tr>\n",
       "  </thead>\n",
       "  <tbody>\n",
       "    <tr>\n",
       "      <th>0</th>\n",
       "      <td>neg</td>\n",
       "      <td>This movie should have been called \"The Eyes of Alexander\", and they should have done away with the Bogart concept altogether. The film started out with a lighthearted approach to Bogart's legacy and some comical moments with his surgery oriented face, but after the first 15-30 minutes it morphs...</td>\n",
       "      <td>movie called eyes alexander done away bogart concept altogether film started lighthearted approach bogarts legacy comical moments surgery oriented face first minutes morphs serious thriller two palm size sapphires purportedly laid eyes marble headpiece alexander great seen right death gems great...</td>\n",
       "      <td>215</td>\n",
       "      <td>1475</td>\n",
       "      <td>5.865116</td>\n",
       "      <td>6.860465</td>\n",
       "      <td>0.288955</td>\n",
       "      <td>1261</td>\n",
       "    </tr>\n",
       "  </tbody>\n",
       "</table>\n",
       "</div>"
      ],
      "text/plain": [
       "  label  \\\n",
       "0   neg   \n",
       "\n",
       "                                                                                                                                                                                                                                                                                                        review  \\\n",
       "0  This movie should have been called \"The Eyes of Alexander\", and they should have done away with the Bogart concept altogether. The film started out with a lighthearted approach to Bogart's legacy and some comical moments with his surgery oriented face, but after the first 15-30 minutes it morphs...   \n",
       "\n",
       "                                                                                                                                                                                                                                                                                                     clean_rev  \\\n",
       "0  movie called eyes alexander done away bogart concept altogether film started lighthearted approach bogarts legacy comical moments surgery oriented face first minutes morphs serious thriller two palm size sapphires purportedly laid eyes marble headpiece alexander great seen right death gems great...   \n",
       "\n",
       "   word_count  char_count  avg_word  diversity  polarity  \\\n",
       "0         215        1475  5.865116   6.860465  0.288955   \n",
       "\n",
       "   char_count_w/o_spaces  \n",
       "0                   1261  "
      ]
     },
     "execution_count": 169,
     "metadata": {},
     "output_type": "execute_result"
    }
   ],
   "source": [
    "df2.head(1)"
   ]
  },
  {
   "cell_type": "markdown",
   "metadata": {},
   "source": [
    "## Lemmatization & POS Tagging"
   ]
  },
  {
   "cell_type": "code",
   "execution_count": 170,
   "metadata": {
    "ExecuteTime": {
     "end_time": "2019-09-01T00:07:08.355066Z",
     "start_time": "2019-09-01T00:07:08.347115Z"
    }
   },
   "outputs": [],
   "source": [
    "from nltk.stem.wordnet import WordNetLemmatizer\n",
    "\n",
    "# text preprocessing \n",
    "lem = WordNetLemmatizer()\n",
    "\n",
    "def clean_text(text):\n",
    "    ## lower case \n",
    "    cleaned = text.lower()\n",
    "    \n",
    "    ## remove punctuations\n",
    "    punctuations = string.punctuation\n",
    "    cleaned = \"\".join(character for character in cleaned if character not in punctuations)\n",
    "    \n",
    "    ## remove stopwords \n",
    "    words = cleaned.split()\n",
    "    stopword_lists = stopwords.words(\"english\")\n",
    "    cleaned = [word for word in words if word not in stopword_lists]\n",
    "    \n",
    "    ## normalization - lemmatization\n",
    "    cleaned = [lem.lemmatize(word, \"v\") for word in cleaned]\n",
    "    cleaned = [lem.lemmatize(word, \"n\") for word in cleaned]\n",
    "    \n",
    "    ## join \n",
    "    cleaned = \" \".join(cleaned)\n",
    "    return cleaned\n"
   ]
  },
  {
   "cell_type": "code",
   "execution_count": 171,
   "metadata": {
    "ExecuteTime": {
     "end_time": "2019-09-01T00:07:28.001531Z",
     "start_time": "2019-09-01T00:07:08.357062Z"
    }
   },
   "outputs": [
    {
     "data": {
      "text/html": [
       "<div>\n",
       "<style scoped>\n",
       "    .dataframe tbody tr th:only-of-type {\n",
       "        vertical-align: middle;\n",
       "    }\n",
       "\n",
       "    .dataframe tbody tr th {\n",
       "        vertical-align: top;\n",
       "    }\n",
       "\n",
       "    .dataframe thead th {\n",
       "        text-align: right;\n",
       "    }\n",
       "</style>\n",
       "<table border=\"1\" class=\"dataframe\">\n",
       "  <thead>\n",
       "    <tr style=\"text-align: right;\">\n",
       "      <th></th>\n",
       "      <th>label</th>\n",
       "      <th>review</th>\n",
       "      <th>clean_rev</th>\n",
       "      <th>word_count</th>\n",
       "      <th>char_count</th>\n",
       "      <th>avg_word</th>\n",
       "      <th>diversity</th>\n",
       "      <th>polarity</th>\n",
       "      <th>char_count_w/o_spaces</th>\n",
       "      <th>cleaned</th>\n",
       "    </tr>\n",
       "  </thead>\n",
       "  <tbody>\n",
       "    <tr>\n",
       "      <th>0</th>\n",
       "      <td>neg</td>\n",
       "      <td>This movie should have been called \"The Eyes of Alexander\", and they should have done away with the Bogart concept altogether. The film started out with a lighthearted approach to Bogart's legacy and some comical moments with his surgery oriented face, but after the first 15-30 minutes it morphs...</td>\n",
       "      <td>movie called eyes alexander done away bogart concept altogether film started lighthearted approach bogarts legacy comical moments surgery oriented face first minutes morphs serious thriller two palm size sapphires purportedly laid eyes marble headpiece alexander great seen right death gems great...</td>\n",
       "      <td>215</td>\n",
       "      <td>1475</td>\n",
       "      <td>5.865116</td>\n",
       "      <td>6.860465</td>\n",
       "      <td>0.288955</td>\n",
       "      <td>1261</td>\n",
       "      <td>movie call eye alexander do away bogart concept altogether film start lighthearted approach bogart legacy comical moment surgery orient face first minute morph serious thriller two palm size sapphire purportedly lay eye marble headpiece alexander great see right death gem great value quality siz...</td>\n",
       "    </tr>\n",
       "  </tbody>\n",
       "</table>\n",
       "</div>"
      ],
      "text/plain": [
       "  label  \\\n",
       "0   neg   \n",
       "\n",
       "                                                                                                                                                                                                                                                                                                        review  \\\n",
       "0  This movie should have been called \"The Eyes of Alexander\", and they should have done away with the Bogart concept altogether. The film started out with a lighthearted approach to Bogart's legacy and some comical moments with his surgery oriented face, but after the first 15-30 minutes it morphs...   \n",
       "\n",
       "                                                                                                                                                                                                                                                                                                     clean_rev  \\\n",
       "0  movie called eyes alexander done away bogart concept altogether film started lighthearted approach bogarts legacy comical moments surgery oriented face first minutes morphs serious thriller two palm size sapphires purportedly laid eyes marble headpiece alexander great seen right death gems great...   \n",
       "\n",
       "   word_count  char_count  avg_word  diversity  polarity  \\\n",
       "0         215        1475  5.865116   6.860465  0.288955   \n",
       "\n",
       "   char_count_w/o_spaces  \\\n",
       "0                   1261   \n",
       "\n",
       "                                                                                                                                                                                                                                                                                                       cleaned  \n",
       "0  movie call eye alexander do away bogart concept altogether film start lighthearted approach bogart legacy comical moment surgery orient face first minute morph serious thriller two palm size sapphire purportedly lay eye marble headpiece alexander great see right death gem great value quality siz...  "
      ]
     },
     "execution_count": 171,
     "metadata": {},
     "output_type": "execute_result"
    }
   ],
   "source": [
    "df2[\"cleaned\"] = df2[\"clean_rev\"].apply(lambda x : clean_text(x))\n",
    "df2.head(1)"
   ]
  },
  {
   "cell_type": "markdown",
   "metadata": {},
   "source": [
    "## Part-of-Speech Tagging"
   ]
  },
  {
   "cell_type": "code",
   "execution_count": 172,
   "metadata": {
    "ExecuteTime": {
     "end_time": "2019-09-01T00:07:28.006525Z",
     "start_time": "2019-09-01T00:07:28.002527Z"
    }
   },
   "outputs": [],
   "source": [
    "pos_dic = {\"noun\" : [\"NNP\", \"NN\", \"NNS\", \"NNPS\"], \"verb\" : [\"VBZ\", \"VB\", \"VBD\",\"VBG\", \"VBN\"]}\n",
    "import nltk\n",
    "def pos_check(txt, family):\n",
    "    tags = nltk.pos_tag(nltk.word_tokenize(txt))\n",
    "    count = 0\n",
    "    for tag in tags:\n",
    "        tag = tag[1]\n",
    "        if tag in pos_dic[family]:\n",
    "            count += 1 \n",
    "    return count\n"
   ]
  },
  {
   "cell_type": "code",
   "execution_count": 173,
   "metadata": {
    "ExecuteTime": {
     "end_time": "2019-09-01T00:10:51.938814Z",
     "start_time": "2019-09-01T00:07:28.007513Z"
    }
   },
   "outputs": [],
   "source": [
    "# pos_check\n",
    "\n",
    "df2[\"noun_count\"] = df2[\"cleaned\"].apply(lambda x : pos_check(x, \"noun\"))\n",
    "df2[\"verb_count\"] = df2[\"cleaned\"].apply(lambda x : pos_check(x, \"verb\"))\n"
   ]
  },
  {
   "cell_type": "code",
   "execution_count": 174,
   "metadata": {
    "ExecuteTime": {
     "end_time": "2019-09-01T00:10:51.950754Z",
     "start_time": "2019-09-01T00:10:51.939784Z"
    }
   },
   "outputs": [
    {
     "data": {
      "text/html": [
       "<div>\n",
       "<style scoped>\n",
       "    .dataframe tbody tr th:only-of-type {\n",
       "        vertical-align: middle;\n",
       "    }\n",
       "\n",
       "    .dataframe tbody tr th {\n",
       "        vertical-align: top;\n",
       "    }\n",
       "\n",
       "    .dataframe thead th {\n",
       "        text-align: right;\n",
       "    }\n",
       "</style>\n",
       "<table border=\"1\" class=\"dataframe\">\n",
       "  <thead>\n",
       "    <tr style=\"text-align: right;\">\n",
       "      <th></th>\n",
       "      <th>label</th>\n",
       "      <th>review</th>\n",
       "      <th>clean_rev</th>\n",
       "      <th>word_count</th>\n",
       "      <th>char_count</th>\n",
       "      <th>avg_word</th>\n",
       "      <th>diversity</th>\n",
       "      <th>polarity</th>\n",
       "      <th>char_count_w/o_spaces</th>\n",
       "      <th>cleaned</th>\n",
       "      <th>noun_count</th>\n",
       "      <th>verb_count</th>\n",
       "    </tr>\n",
       "  </thead>\n",
       "  <tbody>\n",
       "    <tr>\n",
       "      <th>0</th>\n",
       "      <td>neg</td>\n",
       "      <td>This movie should have been called \"The Eyes of Alexander\", and they should have done away with the Bogart concept altogether. The film started out with a lighthearted approach to Bogart's legacy and some comical moments with his surgery oriented face, but after the first 15-30 minutes it morphs...</td>\n",
       "      <td>movie called eyes alexander done away bogart concept altogether film started lighthearted approach bogarts legacy comical moments surgery oriented face first minutes morphs serious thriller two palm size sapphires purportedly laid eyes marble headpiece alexander great seen right death gems great...</td>\n",
       "      <td>215</td>\n",
       "      <td>1475</td>\n",
       "      <td>5.865116</td>\n",
       "      <td>6.860465</td>\n",
       "      <td>0.288955</td>\n",
       "      <td>1261</td>\n",
       "      <td>movie call eye alexander do away bogart concept altogether film start lighthearted approach bogart legacy comical moment surgery orient face first minute morph serious thriller two palm size sapphire purportedly lay eye marble headpiece alexander great see right death gem great value quality siz...</td>\n",
       "      <td>113</td>\n",
       "      <td>20</td>\n",
       "    </tr>\n",
       "  </tbody>\n",
       "</table>\n",
       "</div>"
      ],
      "text/plain": [
       "  label  \\\n",
       "0   neg   \n",
       "\n",
       "                                                                                                                                                                                                                                                                                                        review  \\\n",
       "0  This movie should have been called \"The Eyes of Alexander\", and they should have done away with the Bogart concept altogether. The film started out with a lighthearted approach to Bogart's legacy and some comical moments with his surgery oriented face, but after the first 15-30 minutes it morphs...   \n",
       "\n",
       "                                                                                                                                                                                                                                                                                                     clean_rev  \\\n",
       "0  movie called eyes alexander done away bogart concept altogether film started lighthearted approach bogarts legacy comical moments surgery oriented face first minutes morphs serious thriller two palm size sapphires purportedly laid eyes marble headpiece alexander great seen right death gems great...   \n",
       "\n",
       "   word_count  char_count  avg_word  diversity  polarity  \\\n",
       "0         215        1475  5.865116   6.860465  0.288955   \n",
       "\n",
       "   char_count_w/o_spaces  \\\n",
       "0                   1261   \n",
       "\n",
       "                                                                                                                                                                                                                                                                                                       cleaned  \\\n",
       "0  movie call eye alexander do away bogart concept altogether film start lighthearted approach bogart legacy comical moment surgery orient face first minute morph serious thriller two palm size sapphire purportedly lay eye marble headpiece alexander great see right death gem great value quality siz...   \n",
       "\n",
       "   noun_count  verb_count  \n",
       "0         113          20  "
      ]
     },
     "execution_count": 174,
     "metadata": {},
     "output_type": "execute_result"
    }
   ],
   "source": [
    "df2.head(1)"
   ]
  },
  {
   "cell_type": "code",
   "execution_count": 175,
   "metadata": {
    "ExecuteTime": {
     "end_time": "2019-09-01T00:10:57.430131Z",
     "start_time": "2019-09-01T00:10:51.951751Z"
    }
   },
   "outputs": [],
   "source": [
    "from sklearn.feature_extraction.text import CountVectorizer, TfidfVectorizer\n",
    "cvz = CountVectorizer()\n",
    "cvz.fit(df[\"cleaned\"].values)\n",
    "count_vectors = cvz.transform(df2[\"cleaned\"].values)\n",
    "\n",
    "#Vectorizoer\n",
    "word_tfidf =TfidfVectorizer(max_features=500)\n",
    "word_tfidf.fit(df2[\"cleaned\"].values)\n",
    "word_vectors_tfidf = word_tfidf.transform(df2[\"cleaned\"].values)"
   ]
  },
  {
   "cell_type": "code",
   "execution_count": 176,
   "metadata": {
    "ExecuteTime": {
     "end_time": "2019-09-01T00:10:57.521856Z",
     "start_time": "2019-09-01T00:10:57.431129Z"
    }
   },
   "outputs": [
    {
     "data": {
      "text/plain": [
       "<17175x508 sparse matrix of type '<class 'numpy.float64'>'\n",
       "\twith 964504 stored elements in Compressed Sparse Row format>"
      ]
     },
     "execution_count": 176,
     "metadata": {},
     "output_type": "execute_result"
    }
   ],
   "source": [
    "from scipy.sparse import hstack, csr_matrix\n",
    "\n",
    "meta_features = ['word_count','char_count', 'avg_word','diversity','polarity','char_count_w/o_spaces',\n",
    "                'noun_count','verb_count']\n",
    "\n",
    "feature_set1 = df2[meta_features]\n",
    "\n",
    "train = hstack([word_vectors_tfidf, csr_matrix(feature_set1)], \"csr\")\n",
    "train"
   ]
  },
  {
   "cell_type": "code",
   "execution_count": 177,
   "metadata": {
    "ExecuteTime": {
     "end_time": "2019-09-01T00:10:57.548785Z",
     "start_time": "2019-09-01T00:10:57.523851Z"
    }
   },
   "outputs": [],
   "source": [
    "from sklearn import naive_bayes\n",
    "from sklearn.linear_model import LogisticRegression\n",
    "from sklearn import svm \n",
    "from sklearn import ensemble\n",
    "from sklearn.metrics import accuracy_score, confusion_matrix\n",
    "from sklearn.preprocessing import LabelEncoder \n",
    "\n",
    "target = df2['label'].values\n",
    "target = LabelEncoder().fit_transform(target)\n",
    "\n",
    "from sklearn.model_selection import train_test_split\n",
    "train_x, val_x, train_y, val_y = train_test_split(train, target)"
   ]
  },
  {
   "cell_type": "code",
   "execution_count": 178,
   "metadata": {
    "ExecuteTime": {
     "end_time": "2019-09-01T00:10:58.756583Z",
     "start_time": "2019-09-01T00:10:57.550779Z"
    }
   },
   "outputs": [
    {
     "name": "stdout",
     "output_type": "stream",
     "text": [
      "accuracy 0.7314857941313461\n",
      "              precision    recall  f1-score   support\n",
      "\n",
      "           0       0.83      0.77      0.80      1859\n",
      "           1       0.87      0.71      0.78      2435\n",
      "           2       0.00      0.00      0.00         0\n",
      "\n",
      "   micro avg       0.73      0.73      0.73      4294\n",
      "   macro avg       0.57      0.49      0.53      4294\n",
      "weighted avg       0.85      0.73      0.79      4294\n",
      "\n"
     ]
    }
   ],
   "source": [
    "model = LogisticRegression()\n",
    "model.fit(train_x, train_y)\n",
    "preds = model.predict(val_x)\n",
    "print('accuracy %s' % accuracy_score(preds, val_y))\n",
    "print(classification_report(preds, val_y))\n",
    "\n"
   ]
  },
  {
   "cell_type": "code",
   "execution_count": 179,
   "metadata": {
    "ExecuteTime": {
     "end_time": "2019-09-01T00:11:00.391211Z",
     "start_time": "2019-09-01T00:10:58.757583Z"
    }
   },
   "outputs": [
    {
     "name": "stdout",
     "output_type": "stream",
     "text": [
      "accuracy 0.7517950708325247\n",
      "              precision    recall  f1-score   support\n",
      "\n",
      "         neg       0.84      0.81      0.82      2060\n",
      "         pos       0.70      0.93      0.80      2363\n",
      "       unsup       0.00      0.00      0.00       730\n",
      "\n",
      "   micro avg       0.75      0.75      0.75      5153\n",
      "   macro avg       0.51      0.58      0.54      5153\n",
      "weighted avg       0.65      0.75      0.70      5153\n",
      "\n"
     ]
    }
   ],
   "source": [
    "from sklearn.metrics import accuracy_score, confusion_matrix\n",
    "from sklearn.naive_bayes import MultinomialNB\n",
    "from sklearn.pipeline import Pipeline\n",
    "from sklearn.feature_extraction.text import TfidfTransformer\n",
    "\n",
    "X = df['cleaned']\n",
    "y = df['label']\n",
    "X_train, X_test, y_train, y_test = train_test_split(X, y, test_size=0.3, random_state = 42)\n",
    "\n",
    "nb = Pipeline([('vect', CountVectorizer()),\n",
    "               ('tfidf', TfidfTransformer()),\n",
    "               ('clf', MultinomialNB()),\n",
    "              ])\n",
    "nb.fit(X_train, y_train)\n",
    "\n",
    "\n",
    "from sklearn.metrics import classification_report\n",
    "y_pred = nb.predict(X_test)\n",
    "\n",
    "print('accuracy %s' % accuracy_score(y_pred, y_test))\n",
    "print(classification_report(y_test, y_pred))"
   ]
  },
  {
   "cell_type": "code",
   "execution_count": 180,
   "metadata": {
    "ExecuteTime": {
     "end_time": "2019-09-01T00:12:43.545370Z",
     "start_time": "2019-09-01T00:11:00.392208Z"
    }
   },
   "outputs": [
    {
     "name": "stdout",
     "output_type": "stream",
     "text": [
      "accuracy 0.47019096413600375\n",
      "              precision    recall  f1-score   support\n",
      "\n",
      "           0       0.38      0.44      0.41      1473\n",
      "           1       0.69      0.49      0.57      2813\n",
      "           2       0.00      0.00      0.00         8\n",
      "\n",
      "   micro avg       0.47      0.47      0.47      4294\n",
      "   macro avg       0.36      0.31      0.33      4294\n",
      "weighted avg       0.58      0.47      0.51      4294\n",
      "\n"
     ]
    }
   ],
   "source": [
    "model = svm.SVC()\n",
    "model.fit(train_x, train_y)\n",
    "preds = model.predict(val_x)\n",
    "print('accuracy %s' % accuracy_score(preds, val_y))\n",
    "print(classification_report(preds, val_y))"
   ]
  },
  {
   "cell_type": "code",
   "execution_count": 181,
   "metadata": {
    "ExecuteTime": {
     "end_time": "2019-09-01T00:12:46.511410Z",
     "start_time": "2019-09-01T00:12:43.546339Z"
    }
   },
   "outputs": [
    {
     "name": "stdout",
     "output_type": "stream",
     "text": [
      "accuracy 0.6532370749883558\n",
      "              precision    recall  f1-score   support\n",
      "\n",
      "           0       0.76      0.66      0.71      1945\n",
      "           1       0.76      0.66      0.71      2271\n",
      "           2       0.02      0.17      0.04        78\n",
      "\n",
      "   micro avg       0.65      0.65      0.65      4294\n",
      "   macro avg       0.51      0.50      0.48      4294\n",
      "weighted avg       0.74      0.65      0.69      4294\n",
      "\n"
     ]
    }
   ],
   "source": [
    "model = ensemble.ExtraTreesClassifier()\n",
    "model.fit(train_x, train_y)\n",
    "preds = model.predict(val_x)\n",
    "print('accuracy %s' % accuracy_score(preds, val_y))\n",
    "print(classification_report(preds, val_y))"
   ]
  },
  {
   "cell_type": "code",
   "execution_count": 182,
   "metadata": {
    "ExecuteTime": {
     "end_time": "2019-09-01T00:13:08.087741Z",
     "start_time": "2019-09-01T00:12:46.512407Z"
    }
   },
   "outputs": [
    {
     "name": "stdout",
     "output_type": "stream",
     "text": [
      "accuracy 0.6977177456916628\n",
      "              precision    recall  f1-score   support\n",
      "\n",
      "           0       0.76      0.74      0.75      1768\n",
      "           1       0.85      0.67      0.75      2525\n",
      "           2       0.00      1.00      0.00         1\n",
      "\n",
      "   micro avg       0.70      0.70      0.70      4294\n",
      "   macro avg       0.54      0.80      0.50      4294\n",
      "weighted avg       0.82      0.70      0.75      4294\n",
      "\n"
     ]
    }
   ],
   "source": [
    "import xgboost\n",
    "model = xgboost.XGBClassifier()\n",
    "model.fit(train_x, train_y)\n",
    "preds = model.predict(val_x)\n",
    "print('accuracy %s' % accuracy_score(preds, val_y))\n",
    "print(classification_report(preds, val_y))"
   ]
  },
  {
   "cell_type": "markdown",
   "metadata": {
    "ExecuteTime": {
     "end_time": "2019-08-31T23:41:17.397208Z",
     "start_time": "2019-08-31T23:41:17.394216Z"
    }
   },
   "source": [
    "## Step 3 : Experiments Part B"
   ]
  },
  {
   "cell_type": "code",
   "execution_count": 183,
   "metadata": {
    "ExecuteTime": {
     "end_time": "2019-09-01T00:13:08.100700Z",
     "start_time": "2019-09-01T00:13:08.088740Z"
    }
   },
   "outputs": [
    {
     "data": {
      "text/html": [
       "<div>\n",
       "<style scoped>\n",
       "    .dataframe tbody tr th:only-of-type {\n",
       "        vertical-align: middle;\n",
       "    }\n",
       "\n",
       "    .dataframe tbody tr th {\n",
       "        vertical-align: top;\n",
       "    }\n",
       "\n",
       "    .dataframe thead th {\n",
       "        text-align: right;\n",
       "    }\n",
       "</style>\n",
       "<table border=\"1\" class=\"dataframe\">\n",
       "  <thead>\n",
       "    <tr style=\"text-align: right;\">\n",
       "      <th></th>\n",
       "      <th>label</th>\n",
       "      <th>review</th>\n",
       "      <th>clean_rev</th>\n",
       "      <th>word_count</th>\n",
       "      <th>char_count</th>\n",
       "      <th>avg_word</th>\n",
       "      <th>diversity</th>\n",
       "      <th>polarity</th>\n",
       "      <th>char_count_w/o_spaces</th>\n",
       "      <th>cleaned</th>\n",
       "      <th>noun_count</th>\n",
       "      <th>verb_count</th>\n",
       "    </tr>\n",
       "  </thead>\n",
       "  <tbody>\n",
       "    <tr>\n",
       "      <th>0</th>\n",
       "      <td>neg</td>\n",
       "      <td>This movie should have been called \"The Eyes of Alexander\", and they should have done away with the Bogart concept altogether. The film started out with a lighthearted approach to Bogart's legacy and some comical moments with his surgery oriented face, but after the first 15-30 minutes it morphs...</td>\n",
       "      <td>movie called eyes alexander done away bogart concept altogether film started lighthearted approach bogarts legacy comical moments surgery oriented face first minutes morphs serious thriller two palm size sapphires purportedly laid eyes marble headpiece alexander great seen right death gems great...</td>\n",
       "      <td>215</td>\n",
       "      <td>1475</td>\n",
       "      <td>5.865116</td>\n",
       "      <td>6.860465</td>\n",
       "      <td>0.288955</td>\n",
       "      <td>1261</td>\n",
       "      <td>movie call eye alexander do away bogart concept altogether film start lighthearted approach bogart legacy comical moment surgery orient face first minute morph serious thriller two palm size sapphire purportedly lay eye marble headpiece alexander great see right death gem great value quality siz...</td>\n",
       "      <td>113</td>\n",
       "      <td>20</td>\n",
       "    </tr>\n",
       "  </tbody>\n",
       "</table>\n",
       "</div>"
      ],
      "text/plain": [
       "  label  \\\n",
       "0   neg   \n",
       "\n",
       "                                                                                                                                                                                                                                                                                                        review  \\\n",
       "0  This movie should have been called \"The Eyes of Alexander\", and they should have done away with the Bogart concept altogether. The film started out with a lighthearted approach to Bogart's legacy and some comical moments with his surgery oriented face, but after the first 15-30 minutes it morphs...   \n",
       "\n",
       "                                                                                                                                                                                                                                                                                                     clean_rev  \\\n",
       "0  movie called eyes alexander done away bogart concept altogether film started lighthearted approach bogarts legacy comical moments surgery oriented face first minutes morphs serious thriller two palm size sapphires purportedly laid eyes marble headpiece alexander great seen right death gems great...   \n",
       "\n",
       "   word_count  char_count  avg_word  diversity  polarity  \\\n",
       "0         215        1475  5.865116   6.860465  0.288955   \n",
       "\n",
       "   char_count_w/o_spaces  \\\n",
       "0                   1261   \n",
       "\n",
       "                                                                                                                                                                                                                                                                                                       cleaned  \\\n",
       "0  movie call eye alexander do away bogart concept altogether film start lighthearted approach bogart legacy comical moment surgery orient face first minute morph serious thriller two palm size sapphire purportedly lay eye marble headpiece alexander great see right death gem great value quality siz...   \n",
       "\n",
       "   noun_count  verb_count  \n",
       "0         113          20  "
      ]
     },
     "execution_count": 183,
     "metadata": {},
     "output_type": "execute_result"
    }
   ],
   "source": [
    "df3 = df2\n",
    "df3.head(1)"
   ]
  },
  {
   "cell_type": "code",
   "execution_count": 184,
   "metadata": {
    "ExecuteTime": {
     "end_time": "2019-09-01T00:13:17.223311Z",
     "start_time": "2019-09-01T00:13:08.101707Z"
    }
   },
   "outputs": [],
   "source": [
    "#N-Grams\n",
    "ngram_tfidf =TfidfVectorizer(max_features=500, ngram_range=(1,2))\n",
    "ngram_tfidf.fit(df3[\"cleaned\"].values)\n",
    "ngram_tfidf_tfidf = ngram_tfidf.transform(df3[\"cleaned\"].values)"
   ]
  },
  {
   "cell_type": "code",
   "execution_count": 185,
   "metadata": {
    "ExecuteTime": {
     "end_time": "2019-09-01T00:13:17.306063Z",
     "start_time": "2019-09-01T00:13:17.224282Z"
    }
   },
   "outputs": [
    {
     "data": {
      "text/plain": [
       "<17175x508 sparse matrix of type '<class 'numpy.float64'>'\n",
       "\twith 976324 stored elements in Compressed Sparse Row format>"
      ]
     },
     "execution_count": 185,
     "metadata": {},
     "output_type": "execute_result"
    }
   ],
   "source": [
    "from scipy.sparse import hstack, csr_matrix\n",
    "\n",
    "meta_features = ['word_count','char_count', 'avg_word','diversity','polarity','char_count_w/o_spaces',\n",
    "                'noun_count','verb_count']\n",
    "\n",
    "feature_set2 = df3[meta_features]\n",
    "\n",
    "train2 = hstack([ngram_tfidf_tfidf, csr_matrix(feature_set2)], \"csr\")\n",
    "train2"
   ]
  },
  {
   "cell_type": "code",
   "execution_count": 186,
   "metadata": {
    "ExecuteTime": {
     "end_time": "2019-09-01T00:13:17.329998Z",
     "start_time": "2019-09-01T00:13:17.308059Z"
    }
   },
   "outputs": [],
   "source": [
    "from sklearn.preprocessing import LabelEncoder \n",
    "\n",
    "target2 = df2['label'].values\n",
    "target2 = LabelEncoder().fit_transform(target2)\n",
    "\n",
    "from sklearn.model_selection import train_test_split\n",
    "train_x2, val_x2, train_y2, val_y2 = train_test_split(train, target)"
   ]
  },
  {
   "cell_type": "code",
   "execution_count": 187,
   "metadata": {
    "ExecuteTime": {
     "end_time": "2019-09-01T00:13:18.475548Z",
     "start_time": "2019-09-01T00:13:17.330995Z"
    }
   },
   "outputs": [
    {
     "name": "stdout",
     "output_type": "stream",
     "text": [
      "accuracy 0.727992547741034\n",
      "              precision    recall  f1-score   support\n",
      "\n",
      "           0       0.83      0.77      0.80      1859\n",
      "           1       0.87      0.70      0.77      2435\n",
      "           2       0.00      0.00      0.00         0\n",
      "\n",
      "   micro avg       0.73      0.73      0.73      4294\n",
      "   macro avg       0.56      0.49      0.52      4294\n",
      "weighted avg       0.85      0.73      0.78      4294\n",
      "\n"
     ]
    }
   ],
   "source": [
    "model = LogisticRegression()\n",
    "model.fit(train_x2, train_y2)\n",
    "preds2 = model.predict(val_x2)\n",
    "print('accuracy %s' % accuracy_score(preds2, val_y2))\n",
    "print(classification_report(preds2, val_y2))"
   ]
  },
  {
   "cell_type": "code",
   "execution_count": 188,
   "metadata": {
    "ExecuteTime": {
     "end_time": "2019-09-01T00:15:02.028211Z",
     "start_time": "2019-09-01T00:13:18.476578Z"
    }
   },
   "outputs": [
    {
     "name": "stdout",
     "output_type": "stream",
     "text": [
      "accuracy 0.4527247321844434\n",
      "              precision    recall  f1-score   support\n",
      "\n",
      "           0       0.40      0.43      0.42      1623\n",
      "           1       0.64      0.47      0.54      2670\n",
      "           2       0.00      0.00      0.00         1\n",
      "\n",
      "   micro avg       0.45      0.45      0.45      4294\n",
      "   macro avg       0.35      0.30      0.32      4294\n",
      "weighted avg       0.55      0.45      0.49      4294\n",
      "\n"
     ]
    }
   ],
   "source": [
    "model = svm.SVC()\n",
    "model.fit(train_x2, train_y2)\n",
    "preds2 = model.predict(val_x2)\n",
    "print('accuracy %s' % accuracy_score(preds2, val_y2))\n",
    "print(classification_report(preds2, val_y2))"
   ]
  },
  {
   "cell_type": "code",
   "execution_count": 189,
   "metadata": {
    "ExecuteTime": {
     "end_time": "2019-09-01T00:15:04.863604Z",
     "start_time": "2019-09-01T00:15:02.029180Z"
    }
   },
   "outputs": [
    {
     "name": "stdout",
     "output_type": "stream",
     "text": [
      "accuracy 0.6443875174662319\n",
      "              precision    recall  f1-score   support\n",
      "\n",
      "           0       0.77      0.65      0.71      2036\n",
      "           1       0.73      0.65      0.69      2182\n",
      "           2       0.02      0.20      0.04        76\n",
      "\n",
      "   micro avg       0.64      0.64      0.64      4294\n",
      "   macro avg       0.51      0.50      0.48      4294\n",
      "weighted avg       0.73      0.64      0.69      4294\n",
      "\n"
     ]
    }
   ],
   "source": [
    "model = ensemble.ExtraTreesClassifier()\n",
    "model.fit(train_x2, train_y2)\n",
    "preds2 = model.predict(val_x2)\n",
    "print('accuracy %s' % accuracy_score(preds2, val_y2))\n",
    "print(classification_report(preds2, val_y2))"
   ]
  },
  {
   "cell_type": "code",
   "execution_count": 190,
   "metadata": {
    "ExecuteTime": {
     "end_time": "2019-09-01T00:15:26.332250Z",
     "start_time": "2019-09-01T00:15:04.864601Z"
    }
   },
   "outputs": [
    {
     "name": "stdout",
     "output_type": "stream",
     "text": [
      "accuracy 0.6939916162086632\n",
      "              precision    recall  f1-score   support\n",
      "\n",
      "           0       0.76      0.74      0.75      1778\n",
      "           1       0.85      0.66      0.75      2516\n",
      "           2       0.00      0.00      0.00         0\n",
      "\n",
      "   micro avg       0.69      0.69      0.69      4294\n",
      "   macro avg       0.54      0.47      0.50      4294\n",
      "weighted avg       0.81      0.69      0.75      4294\n",
      "\n"
     ]
    }
   ],
   "source": [
    "import xgboost\n",
    "model = xgboost.XGBClassifier()\n",
    "model.fit(train_x2, train_y2)\n",
    "preds2 = model.predict(val_x2)\n",
    "print('accuracy %s' % accuracy_score(preds2, val_y2))\n",
    "print(classification_report(preds2, val_y2))"
   ]
  },
  {
   "cell_type": "markdown",
   "metadata": {},
   "source": [
    "## NLTK (NO Sci Kit Learn Vectorizers)"
   ]
  },
  {
   "cell_type": "code",
   "execution_count": 191,
   "metadata": {
    "ExecuteTime": {
     "end_time": "2019-09-01T00:15:26.345192Z",
     "start_time": "2019-09-01T00:15:26.333247Z"
    }
   },
   "outputs": [
    {
     "data": {
      "text/html": [
       "<div>\n",
       "<style scoped>\n",
       "    .dataframe tbody tr th:only-of-type {\n",
       "        vertical-align: middle;\n",
       "    }\n",
       "\n",
       "    .dataframe tbody tr th {\n",
       "        vertical-align: top;\n",
       "    }\n",
       "\n",
       "    .dataframe thead th {\n",
       "        text-align: right;\n",
       "    }\n",
       "</style>\n",
       "<table border=\"1\" class=\"dataframe\">\n",
       "  <thead>\n",
       "    <tr style=\"text-align: right;\">\n",
       "      <th></th>\n",
       "      <th>label</th>\n",
       "      <th>review</th>\n",
       "      <th>clean_rev</th>\n",
       "      <th>word_count</th>\n",
       "      <th>char_count</th>\n",
       "      <th>avg_word</th>\n",
       "      <th>diversity</th>\n",
       "      <th>polarity</th>\n",
       "      <th>char_count_w/o_spaces</th>\n",
       "      <th>cleaned</th>\n",
       "      <th>noun_count</th>\n",
       "      <th>verb_count</th>\n",
       "    </tr>\n",
       "  </thead>\n",
       "  <tbody>\n",
       "    <tr>\n",
       "      <th>0</th>\n",
       "      <td>neg</td>\n",
       "      <td>This movie should have been called \"The Eyes of Alexander\", and they should have done away with the Bogart concept altogether. The film started out with a lighthearted approach to Bogart's legacy and some comical moments with his surgery oriented face, but after the first 15-30 minutes it morphs...</td>\n",
       "      <td>movie called eyes alexander done away bogart concept altogether film started lighthearted approach bogarts legacy comical moments surgery oriented face first minutes morphs serious thriller two palm size sapphires purportedly laid eyes marble headpiece alexander great seen right death gems great...</td>\n",
       "      <td>215</td>\n",
       "      <td>1475</td>\n",
       "      <td>5.865116</td>\n",
       "      <td>6.860465</td>\n",
       "      <td>0.288955</td>\n",
       "      <td>1261</td>\n",
       "      <td>movie call eye alexander do away bogart concept altogether film start lighthearted approach bogart legacy comical moment surgery orient face first minute morph serious thriller two palm size sapphire purportedly lay eye marble headpiece alexander great see right death gem great value quality siz...</td>\n",
       "      <td>113</td>\n",
       "      <td>20</td>\n",
       "    </tr>\n",
       "  </tbody>\n",
       "</table>\n",
       "</div>"
      ],
      "text/plain": [
       "  label  \\\n",
       "0   neg   \n",
       "\n",
       "                                                                                                                                                                                                                                                                                                        review  \\\n",
       "0  This movie should have been called \"The Eyes of Alexander\", and they should have done away with the Bogart concept altogether. The film started out with a lighthearted approach to Bogart's legacy and some comical moments with his surgery oriented face, but after the first 15-30 minutes it morphs...   \n",
       "\n",
       "                                                                                                                                                                                                                                                                                                     clean_rev  \\\n",
       "0  movie called eyes alexander done away bogart concept altogether film started lighthearted approach bogarts legacy comical moments surgery oriented face first minutes morphs serious thriller two palm size sapphires purportedly laid eyes marble headpiece alexander great seen right death gems great...   \n",
       "\n",
       "   word_count  char_count  avg_word  diversity  polarity  \\\n",
       "0         215        1475  5.865116   6.860465  0.288955   \n",
       "\n",
       "   char_count_w/o_spaces  \\\n",
       "0                   1261   \n",
       "\n",
       "                                                                                                                                                                                                                                                                                                       cleaned  \\\n",
       "0  movie call eye alexander do away bogart concept altogether film start lighthearted approach bogart legacy comical moment surgery orient face first minute morph serious thriller two palm size sapphire purportedly lay eye marble headpiece alexander great see right death gem great value quality siz...   \n",
       "\n",
       "   noun_count  verb_count  \n",
       "0         113          20  "
      ]
     },
     "execution_count": 191,
     "metadata": {},
     "output_type": "execute_result"
    }
   ],
   "source": [
    "df4 = df3\n",
    "df4.head(1)"
   ]
  },
  {
   "cell_type": "markdown",
   "metadata": {
    "ExecuteTime": {
     "end_time": "2019-08-31T23:54:23.126043Z",
     "start_time": "2019-08-31T23:54:23.117040Z"
    }
   },
   "source": [
    "## Appendex Tested Code"
   ]
  },
  {
   "cell_type": "code",
   "execution_count": 192,
   "metadata": {
    "ExecuteTime": {
     "end_time": "2019-09-01T00:15:26.401041Z",
     "start_time": "2019-09-01T00:15:26.347186Z"
    }
   },
   "outputs": [
    {
     "ename": "KeyError",
     "evalue": "'clean_plot'",
     "output_type": "error",
     "traceback": [
      "\u001b[1;31m---------------------------------------------------------------------------\u001b[0m",
      "\u001b[1;31mKeyError\u001b[0m                                  Traceback (most recent call last)",
      "\u001b[1;32m~\\AppData\\Roaming\\Python\\Python36\\site-packages\\pandas\\core\\indexes\\base.py\u001b[0m in \u001b[0;36mget_loc\u001b[1;34m(self, key, method, tolerance)\u001b[0m\n\u001b[0;32m   2524\u001b[0m             \u001b[1;32mtry\u001b[0m\u001b[1;33m:\u001b[0m\u001b[1;33m\u001b[0m\u001b[1;33m\u001b[0m\u001b[0m\n\u001b[1;32m-> 2525\u001b[1;33m                 \u001b[1;32mreturn\u001b[0m \u001b[0mself\u001b[0m\u001b[1;33m.\u001b[0m\u001b[0m_engine\u001b[0m\u001b[1;33m.\u001b[0m\u001b[0mget_loc\u001b[0m\u001b[1;33m(\u001b[0m\u001b[0mkey\u001b[0m\u001b[1;33m)\u001b[0m\u001b[1;33m\u001b[0m\u001b[1;33m\u001b[0m\u001b[0m\n\u001b[0m\u001b[0;32m   2526\u001b[0m             \u001b[1;32mexcept\u001b[0m \u001b[0mKeyError\u001b[0m\u001b[1;33m:\u001b[0m\u001b[1;33m\u001b[0m\u001b[1;33m\u001b[0m\u001b[0m\n",
      "\u001b[1;32mpandas\\_libs\\index.pyx\u001b[0m in \u001b[0;36mpandas._libs.index.IndexEngine.get_loc\u001b[1;34m()\u001b[0m\n",
      "\u001b[1;32mpandas\\_libs\\index.pyx\u001b[0m in \u001b[0;36mpandas._libs.index.IndexEngine.get_loc\u001b[1;34m()\u001b[0m\n",
      "\u001b[1;32mpandas\\_libs\\hashtable_class_helper.pxi\u001b[0m in \u001b[0;36mpandas._libs.hashtable.PyObjectHashTable.get_item\u001b[1;34m()\u001b[0m\n",
      "\u001b[1;32mpandas\\_libs\\hashtable_class_helper.pxi\u001b[0m in \u001b[0;36mpandas._libs.hashtable.PyObjectHashTable.get_item\u001b[1;34m()\u001b[0m\n",
      "\u001b[1;31mKeyError\u001b[0m: 'clean_plot'",
      "\nDuring handling of the above exception, another exception occurred:\n",
      "\u001b[1;31mKeyError\u001b[0m                                  Traceback (most recent call last)",
      "\u001b[1;32m<ipython-input-192-54427e79d94e>\u001b[0m in \u001b[0;36m<module>\u001b[1;34m\u001b[0m\n\u001b[0;32m      1\u001b[0m \u001b[1;31m#common word removal\u001b[0m\u001b[1;33m\u001b[0m\u001b[1;33m\u001b[0m\u001b[1;33m\u001b[0m\u001b[0m\n\u001b[0;32m      2\u001b[0m \u001b[1;33m\u001b[0m\u001b[0m\n\u001b[1;32m----> 3\u001b[1;33m \u001b[0mfreq\u001b[0m \u001b[1;33m=\u001b[0m \u001b[0mpd\u001b[0m\u001b[1;33m.\u001b[0m\u001b[0mSeries\u001b[0m\u001b[1;33m(\u001b[0m\u001b[1;34m' '\u001b[0m\u001b[1;33m.\u001b[0m\u001b[0mjoin\u001b[0m\u001b[1;33m(\u001b[0m\u001b[0mdf2\u001b[0m\u001b[1;33m[\u001b[0m\u001b[1;34m'clean_plot'\u001b[0m\u001b[1;33m]\u001b[0m\u001b[1;33m)\u001b[0m\u001b[1;33m.\u001b[0m\u001b[0msplit\u001b[0m\u001b[1;33m(\u001b[0m\u001b[1;33m)\u001b[0m\u001b[1;33m)\u001b[0m\u001b[1;33m.\u001b[0m\u001b[0mvalue_counts\u001b[0m\u001b[1;33m(\u001b[0m\u001b[1;33m)\u001b[0m\u001b[1;33m[\u001b[0m\u001b[1;33m:\u001b[0m\u001b[1;36m10\u001b[0m\u001b[1;33m]\u001b[0m\u001b[1;33m\u001b[0m\u001b[1;33m\u001b[0m\u001b[0m\n\u001b[0m\u001b[0;32m      4\u001b[0m \u001b[0mfreq\u001b[0m\u001b[1;33m\u001b[0m\u001b[1;33m\u001b[0m\u001b[0m\n\u001b[0;32m      5\u001b[0m \u001b[1;33m\u001b[0m\u001b[0m\n",
      "\u001b[1;32m~\\AppData\\Roaming\\Python\\Python36\\site-packages\\pandas\\core\\frame.py\u001b[0m in \u001b[0;36m__getitem__\u001b[1;34m(self, key)\u001b[0m\n\u001b[0;32m   2137\u001b[0m             \u001b[1;32mreturn\u001b[0m \u001b[0mself\u001b[0m\u001b[1;33m.\u001b[0m\u001b[0m_getitem_multilevel\u001b[0m\u001b[1;33m(\u001b[0m\u001b[0mkey\u001b[0m\u001b[1;33m)\u001b[0m\u001b[1;33m\u001b[0m\u001b[1;33m\u001b[0m\u001b[0m\n\u001b[0;32m   2138\u001b[0m         \u001b[1;32melse\u001b[0m\u001b[1;33m:\u001b[0m\u001b[1;33m\u001b[0m\u001b[1;33m\u001b[0m\u001b[0m\n\u001b[1;32m-> 2139\u001b[1;33m             \u001b[1;32mreturn\u001b[0m \u001b[0mself\u001b[0m\u001b[1;33m.\u001b[0m\u001b[0m_getitem_column\u001b[0m\u001b[1;33m(\u001b[0m\u001b[0mkey\u001b[0m\u001b[1;33m)\u001b[0m\u001b[1;33m\u001b[0m\u001b[1;33m\u001b[0m\u001b[0m\n\u001b[0m\u001b[0;32m   2140\u001b[0m \u001b[1;33m\u001b[0m\u001b[0m\n\u001b[0;32m   2141\u001b[0m     \u001b[1;32mdef\u001b[0m \u001b[0m_getitem_column\u001b[0m\u001b[1;33m(\u001b[0m\u001b[0mself\u001b[0m\u001b[1;33m,\u001b[0m \u001b[0mkey\u001b[0m\u001b[1;33m)\u001b[0m\u001b[1;33m:\u001b[0m\u001b[1;33m\u001b[0m\u001b[1;33m\u001b[0m\u001b[0m\n",
      "\u001b[1;32m~\\AppData\\Roaming\\Python\\Python36\\site-packages\\pandas\\core\\frame.py\u001b[0m in \u001b[0;36m_getitem_column\u001b[1;34m(self, key)\u001b[0m\n\u001b[0;32m   2144\u001b[0m         \u001b[1;31m# get column\u001b[0m\u001b[1;33m\u001b[0m\u001b[1;33m\u001b[0m\u001b[1;33m\u001b[0m\u001b[0m\n\u001b[0;32m   2145\u001b[0m         \u001b[1;32mif\u001b[0m \u001b[0mself\u001b[0m\u001b[1;33m.\u001b[0m\u001b[0mcolumns\u001b[0m\u001b[1;33m.\u001b[0m\u001b[0mis_unique\u001b[0m\u001b[1;33m:\u001b[0m\u001b[1;33m\u001b[0m\u001b[1;33m\u001b[0m\u001b[0m\n\u001b[1;32m-> 2146\u001b[1;33m             \u001b[1;32mreturn\u001b[0m \u001b[0mself\u001b[0m\u001b[1;33m.\u001b[0m\u001b[0m_get_item_cache\u001b[0m\u001b[1;33m(\u001b[0m\u001b[0mkey\u001b[0m\u001b[1;33m)\u001b[0m\u001b[1;33m\u001b[0m\u001b[1;33m\u001b[0m\u001b[0m\n\u001b[0m\u001b[0;32m   2147\u001b[0m \u001b[1;33m\u001b[0m\u001b[0m\n\u001b[0;32m   2148\u001b[0m         \u001b[1;31m# duplicate columns & possible reduce dimensionality\u001b[0m\u001b[1;33m\u001b[0m\u001b[1;33m\u001b[0m\u001b[1;33m\u001b[0m\u001b[0m\n",
      "\u001b[1;32m~\\AppData\\Roaming\\Python\\Python36\\site-packages\\pandas\\core\\generic.py\u001b[0m in \u001b[0;36m_get_item_cache\u001b[1;34m(self, item)\u001b[0m\n\u001b[0;32m   1840\u001b[0m         \u001b[0mres\u001b[0m \u001b[1;33m=\u001b[0m \u001b[0mcache\u001b[0m\u001b[1;33m.\u001b[0m\u001b[0mget\u001b[0m\u001b[1;33m(\u001b[0m\u001b[0mitem\u001b[0m\u001b[1;33m)\u001b[0m\u001b[1;33m\u001b[0m\u001b[1;33m\u001b[0m\u001b[0m\n\u001b[0;32m   1841\u001b[0m         \u001b[1;32mif\u001b[0m \u001b[0mres\u001b[0m \u001b[1;32mis\u001b[0m \u001b[1;32mNone\u001b[0m\u001b[1;33m:\u001b[0m\u001b[1;33m\u001b[0m\u001b[1;33m\u001b[0m\u001b[0m\n\u001b[1;32m-> 1842\u001b[1;33m             \u001b[0mvalues\u001b[0m \u001b[1;33m=\u001b[0m \u001b[0mself\u001b[0m\u001b[1;33m.\u001b[0m\u001b[0m_data\u001b[0m\u001b[1;33m.\u001b[0m\u001b[0mget\u001b[0m\u001b[1;33m(\u001b[0m\u001b[0mitem\u001b[0m\u001b[1;33m)\u001b[0m\u001b[1;33m\u001b[0m\u001b[1;33m\u001b[0m\u001b[0m\n\u001b[0m\u001b[0;32m   1843\u001b[0m             \u001b[0mres\u001b[0m \u001b[1;33m=\u001b[0m \u001b[0mself\u001b[0m\u001b[1;33m.\u001b[0m\u001b[0m_box_item_values\u001b[0m\u001b[1;33m(\u001b[0m\u001b[0mitem\u001b[0m\u001b[1;33m,\u001b[0m \u001b[0mvalues\u001b[0m\u001b[1;33m)\u001b[0m\u001b[1;33m\u001b[0m\u001b[1;33m\u001b[0m\u001b[0m\n\u001b[0;32m   1844\u001b[0m             \u001b[0mcache\u001b[0m\u001b[1;33m[\u001b[0m\u001b[0mitem\u001b[0m\u001b[1;33m]\u001b[0m \u001b[1;33m=\u001b[0m \u001b[0mres\u001b[0m\u001b[1;33m\u001b[0m\u001b[1;33m\u001b[0m\u001b[0m\n",
      "\u001b[1;32m~\\AppData\\Roaming\\Python\\Python36\\site-packages\\pandas\\core\\internals.py\u001b[0m in \u001b[0;36mget\u001b[1;34m(self, item, fastpath)\u001b[0m\n\u001b[0;32m   3841\u001b[0m \u001b[1;33m\u001b[0m\u001b[0m\n\u001b[0;32m   3842\u001b[0m             \u001b[1;32mif\u001b[0m \u001b[1;32mnot\u001b[0m \u001b[0misna\u001b[0m\u001b[1;33m(\u001b[0m\u001b[0mitem\u001b[0m\u001b[1;33m)\u001b[0m\u001b[1;33m:\u001b[0m\u001b[1;33m\u001b[0m\u001b[1;33m\u001b[0m\u001b[0m\n\u001b[1;32m-> 3843\u001b[1;33m                 \u001b[0mloc\u001b[0m \u001b[1;33m=\u001b[0m \u001b[0mself\u001b[0m\u001b[1;33m.\u001b[0m\u001b[0mitems\u001b[0m\u001b[1;33m.\u001b[0m\u001b[0mget_loc\u001b[0m\u001b[1;33m(\u001b[0m\u001b[0mitem\u001b[0m\u001b[1;33m)\u001b[0m\u001b[1;33m\u001b[0m\u001b[1;33m\u001b[0m\u001b[0m\n\u001b[0m\u001b[0;32m   3844\u001b[0m             \u001b[1;32melse\u001b[0m\u001b[1;33m:\u001b[0m\u001b[1;33m\u001b[0m\u001b[1;33m\u001b[0m\u001b[0m\n\u001b[0;32m   3845\u001b[0m                 \u001b[0mindexer\u001b[0m \u001b[1;33m=\u001b[0m \u001b[0mnp\u001b[0m\u001b[1;33m.\u001b[0m\u001b[0marange\u001b[0m\u001b[1;33m(\u001b[0m\u001b[0mlen\u001b[0m\u001b[1;33m(\u001b[0m\u001b[0mself\u001b[0m\u001b[1;33m.\u001b[0m\u001b[0mitems\u001b[0m\u001b[1;33m)\u001b[0m\u001b[1;33m)\u001b[0m\u001b[1;33m[\u001b[0m\u001b[0misna\u001b[0m\u001b[1;33m(\u001b[0m\u001b[0mself\u001b[0m\u001b[1;33m.\u001b[0m\u001b[0mitems\u001b[0m\u001b[1;33m)\u001b[0m\u001b[1;33m]\u001b[0m\u001b[1;33m\u001b[0m\u001b[1;33m\u001b[0m\u001b[0m\n",
      "\u001b[1;32m~\\AppData\\Roaming\\Python\\Python36\\site-packages\\pandas\\core\\indexes\\base.py\u001b[0m in \u001b[0;36mget_loc\u001b[1;34m(self, key, method, tolerance)\u001b[0m\n\u001b[0;32m   2525\u001b[0m                 \u001b[1;32mreturn\u001b[0m \u001b[0mself\u001b[0m\u001b[1;33m.\u001b[0m\u001b[0m_engine\u001b[0m\u001b[1;33m.\u001b[0m\u001b[0mget_loc\u001b[0m\u001b[1;33m(\u001b[0m\u001b[0mkey\u001b[0m\u001b[1;33m)\u001b[0m\u001b[1;33m\u001b[0m\u001b[1;33m\u001b[0m\u001b[0m\n\u001b[0;32m   2526\u001b[0m             \u001b[1;32mexcept\u001b[0m \u001b[0mKeyError\u001b[0m\u001b[1;33m:\u001b[0m\u001b[1;33m\u001b[0m\u001b[1;33m\u001b[0m\u001b[0m\n\u001b[1;32m-> 2527\u001b[1;33m                 \u001b[1;32mreturn\u001b[0m \u001b[0mself\u001b[0m\u001b[1;33m.\u001b[0m\u001b[0m_engine\u001b[0m\u001b[1;33m.\u001b[0m\u001b[0mget_loc\u001b[0m\u001b[1;33m(\u001b[0m\u001b[0mself\u001b[0m\u001b[1;33m.\u001b[0m\u001b[0m_maybe_cast_indexer\u001b[0m\u001b[1;33m(\u001b[0m\u001b[0mkey\u001b[0m\u001b[1;33m)\u001b[0m\u001b[1;33m)\u001b[0m\u001b[1;33m\u001b[0m\u001b[1;33m\u001b[0m\u001b[0m\n\u001b[0m\u001b[0;32m   2528\u001b[0m \u001b[1;33m\u001b[0m\u001b[0m\n\u001b[0;32m   2529\u001b[0m         \u001b[0mindexer\u001b[0m \u001b[1;33m=\u001b[0m \u001b[0mself\u001b[0m\u001b[1;33m.\u001b[0m\u001b[0mget_indexer\u001b[0m\u001b[1;33m(\u001b[0m\u001b[1;33m[\u001b[0m\u001b[0mkey\u001b[0m\u001b[1;33m]\u001b[0m\u001b[1;33m,\u001b[0m \u001b[0mmethod\u001b[0m\u001b[1;33m=\u001b[0m\u001b[0mmethod\u001b[0m\u001b[1;33m,\u001b[0m \u001b[0mtolerance\u001b[0m\u001b[1;33m=\u001b[0m\u001b[0mtolerance\u001b[0m\u001b[1;33m)\u001b[0m\u001b[1;33m\u001b[0m\u001b[1;33m\u001b[0m\u001b[0m\n",
      "\u001b[1;32mpandas\\_libs\\index.pyx\u001b[0m in \u001b[0;36mpandas._libs.index.IndexEngine.get_loc\u001b[1;34m()\u001b[0m\n",
      "\u001b[1;32mpandas\\_libs\\index.pyx\u001b[0m in \u001b[0;36mpandas._libs.index.IndexEngine.get_loc\u001b[1;34m()\u001b[0m\n",
      "\u001b[1;32mpandas\\_libs\\hashtable_class_helper.pxi\u001b[0m in \u001b[0;36mpandas._libs.hashtable.PyObjectHashTable.get_item\u001b[1;34m()\u001b[0m\n",
      "\u001b[1;32mpandas\\_libs\\hashtable_class_helper.pxi\u001b[0m in \u001b[0;36mpandas._libs.hashtable.PyObjectHashTable.get_item\u001b[1;34m()\u001b[0m\n",
      "\u001b[1;31mKeyError\u001b[0m: 'clean_plot'"
     ]
    }
   ],
   "source": [
    "#common word removal\n",
    "\n",
    "freq = pd.Series(' '.join(df2['clean_plot']).split()).value_counts()[:10]\n",
    "freq\n",
    "\n",
    "freq = list(freq.index)\n",
    "df2['clean_plot'] = df2['clean_plot'].apply(lambda x: \" \".join(x for x in x.split() if x not in freq))\n",
    "df2['clean_plot'].head()"
   ]
  },
  {
   "cell_type": "code",
   "execution_count": null,
   "metadata": {
    "ExecuteTime": {
     "end_time": "2019-09-01T00:15:26.405045Z",
     "start_time": "2019-09-01T00:06:25.493Z"
    }
   },
   "outputs": [],
   "source": [
    "#rare word Removal\n",
    "freq = pd.Series(' '.join(df2['clean_plot']).split()).value_counts()[-10:]\n",
    "freq\n",
    "\n",
    "freq = list(freq.index)\n",
    "df2['clean_plot'] = df2['clean_plot'].apply(lambda x: \" \".join(x for x in x.split() if x not in freq))\n",
    "df2['clean_plot'].head()"
   ]
  },
  {
   "cell_type": "code",
   "execution_count": null,
   "metadata": {
    "ExecuteTime": {
     "end_time": "2019-09-01T00:15:26.406029Z",
     "start_time": "2019-09-01T00:06:25.494Z"
    }
   },
   "outputs": [],
   "source": [
    "#Feature-9: Count of Title case words.\n",
    "df2['Feature_9'] = df2[\"clean_plot\"].apply(lambda x: len([w for w in str(x).replace('I','i').replace('A','a').split() if w.istitle() == True]) )\n"
   ]
  },
  {
   "cell_type": "code",
   "execution_count": null,
   "metadata": {
    "ExecuteTime": {
     "end_time": "2019-09-01T00:15:26.406029Z",
     "start_time": "2019-09-01T00:06:25.496Z"
    }
   },
   "outputs": [],
   "source": [
    "# words which START WITH or END WITH particular characters. \n",
    "import operator\n",
    "\n",
    "starting_words = sorted(list(map(lambda word : word[:2],filter(lambda word : len(word) > 3,all_text_without_sw.split()))))\n",
    "sw_counts = Counter(starting_words)\n",
    "top_30_sw = dict(sorted(sw_counts.items(), key=operator.itemgetter(1),reverse=True)[:30])\n",
    "\n",
    "#Feature-10: Count of (Most words start with)\n",
    "df2['Feature_10'] = df2[\"clean_plot\"].apply(lambda x: len([w for w in str(x).lower().split() if w[:2] in top_30_sw and w not in stop_words]) )\n",
    "\n"
   ]
  },
  {
   "cell_type": "code",
   "execution_count": null,
   "metadata": {
    "ExecuteTime": {
     "end_time": "2019-09-01T00:15:26.407027Z",
     "start_time": "2019-09-01T00:06:25.497Z"
    }
   },
   "outputs": [],
   "source": [
    "#Feature-11: Count of (Most words end with)\n",
    "ending_words = sorted(list(map(lambda word : word[-2:],filter(lambda word : len(word) > 3,all_text_without_sw.split()))))\n",
    "ew_counts = Counter(ending_words)\n",
    "top_30_ew = dict(sorted(sw_counts.items(), key=operator.itemgetter(1),reverse=True)[:30])\n",
    "df2['Feature_11'] = df2[\"clean_plot\"].apply(lambda x: len([w for w in str(x).lower().split() if w[:2] in top_30_ew and w not in stop_words]) )\n"
   ]
  },
  {
   "cell_type": "code",
   "execution_count": null,
   "metadata": {
    "ExecuteTime": {
     "end_time": "2019-09-01T00:15:26.408024Z",
     "start_time": "2019-09-01T00:06:25.499Z"
    }
   },
   "outputs": [],
   "source": [
    "#getting top 50 used words:\n",
    "all_text_without_sw = ''\n",
    "for i in df2.itertuples():\n",
    "    all_text_without_sw = all_text_without_sw +  str(i.clean_plot)\n",
    "#getting counts of each words:\n",
    "counts = Counter(re.findall(r\"[\\w']+\", all_text_without_sw))\n",
    "#deleting ' from counts\n",
    "del counts[\"'\"]\n",
    "#getting top 50 used words:\n",
    "sorted_x = dict(sorted(counts.items(), key=operator.itemgetter(1),reverse=True)[:50])\n",
    "\n",
    "#Feature-5: The count of top used words.\n",
    "df2['Feature_5'] = df2[\"clean_plot\"].apply(lambda x: len([w for w in str(x).lower().split() if w in sorted_x]) )\n"
   ]
  },
  {
   "cell_type": "code",
   "execution_count": null,
   "metadata": {},
   "outputs": [],
   "source": []
  },
  {
   "cell_type": "code",
   "execution_count": null,
   "metadata": {},
   "outputs": [],
   "source": []
  },
  {
   "cell_type": "code",
   "execution_count": null,
   "metadata": {},
   "outputs": [],
   "source": []
  },
  {
   "cell_type": "code",
   "execution_count": null,
   "metadata": {},
   "outputs": [],
   "source": []
  },
  {
   "cell_type": "code",
   "execution_count": null,
   "metadata": {},
   "outputs": [],
   "source": []
  },
  {
   "cell_type": "code",
   "execution_count": null,
   "metadata": {},
   "outputs": [],
   "source": []
  },
  {
   "cell_type": "code",
   "execution_count": null,
   "metadata": {},
   "outputs": [],
   "source": []
  }
 ],
 "metadata": {
  "kernelspec": {
   "display_name": "Python 3",
   "language": "python",
   "name": "python3"
  },
  "language_info": {
   "codemirror_mode": {
    "name": "ipython",
    "version": 3
   },
   "file_extension": ".py",
   "mimetype": "text/x-python",
   "name": "python",
   "nbconvert_exporter": "python",
   "pygments_lexer": "ipython3",
   "version": "3.6.8"
  }
 },
 "nbformat": 4,
 "nbformat_minor": 2
}
